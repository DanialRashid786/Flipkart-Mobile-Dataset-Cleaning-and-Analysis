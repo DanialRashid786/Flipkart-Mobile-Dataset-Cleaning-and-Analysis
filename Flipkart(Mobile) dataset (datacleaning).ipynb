{
 "cells": [
  {
   "cell_type": "code",
   "execution_count": 1,
   "id": "4a604b65",
   "metadata": {},
   "outputs": [],
   "source": [
    "import pandas as pd\n",
    "import numpy as np\n",
    "import matplotlib.pyplot as plt\n",
    "import seaborn as sns\n",
    "from sklearn.impute import SimpleImputer"
   ]
  },
  {
   "cell_type": "code",
   "execution_count": 2,
   "id": "e50f11db",
   "metadata": {},
   "outputs": [
    {
     "data": {
      "text/html": [
       "<div>\n",
       "<style scoped>\n",
       "    .dataframe tbody tr th:only-of-type {\n",
       "        vertical-align: middle;\n",
       "    }\n",
       "\n",
       "    .dataframe tbody tr th {\n",
       "        vertical-align: top;\n",
       "    }\n",
       "\n",
       "    .dataframe thead th {\n",
       "        text-align: right;\n",
       "    }\n",
       "</style>\n",
       "<table border=\"1\" class=\"dataframe\">\n",
       "  <thead>\n",
       "    <tr style=\"text-align: right;\">\n",
       "      <th></th>\n",
       "      <th>Brand</th>\n",
       "      <th>Model</th>\n",
       "      <th>Color</th>\n",
       "      <th>Memory</th>\n",
       "      <th>Storage</th>\n",
       "      <th>Rating</th>\n",
       "      <th>Selling Price</th>\n",
       "      <th>Original Price</th>\n",
       "    </tr>\n",
       "  </thead>\n",
       "  <tbody>\n",
       "    <tr>\n",
       "      <th>0</th>\n",
       "      <td>OPPO</td>\n",
       "      <td>A53</td>\n",
       "      <td>Moonlight Black</td>\n",
       "      <td>4 GB</td>\n",
       "      <td>64 GB</td>\n",
       "      <td>4.5</td>\n",
       "      <td>11990.0</td>\n",
       "      <td>15990</td>\n",
       "    </tr>\n",
       "    <tr>\n",
       "      <th>1</th>\n",
       "      <td>OPPO</td>\n",
       "      <td>A53</td>\n",
       "      <td>Mint Cream</td>\n",
       "      <td>4 GB</td>\n",
       "      <td>64 GB</td>\n",
       "      <td>4.5</td>\n",
       "      <td>11990.0</td>\n",
       "      <td>100000</td>\n",
       "    </tr>\n",
       "    <tr>\n",
       "      <th>2</th>\n",
       "      <td>OPPO</td>\n",
       "      <td>A53</td>\n",
       "      <td>Moonlight Black</td>\n",
       "      <td>6 GB</td>\n",
       "      <td>128 GB</td>\n",
       "      <td>4.3</td>\n",
       "      <td>13990.0</td>\n",
       "      <td>17990</td>\n",
       "    </tr>\n",
       "    <tr>\n",
       "      <th>3</th>\n",
       "      <td>OPPO</td>\n",
       "      <td>A53</td>\n",
       "      <td>Mint Cream</td>\n",
       "      <td>6 GB</td>\n",
       "      <td>128 GB</td>\n",
       "      <td>4.3</td>\n",
       "      <td>13990.0</td>\n",
       "      <td>17990</td>\n",
       "    </tr>\n",
       "    <tr>\n",
       "      <th>4</th>\n",
       "      <td>OPPO</td>\n",
       "      <td>A53</td>\n",
       "      <td>Electric Black</td>\n",
       "      <td>4 GB</td>\n",
       "      <td>64 GB</td>\n",
       "      <td>4.5</td>\n",
       "      <td>11990.0</td>\n",
       "      <td>15990</td>\n",
       "    </tr>\n",
       "  </tbody>\n",
       "</table>\n",
       "</div>"
      ],
      "text/plain": [
       "  Brand Model            Color Memory Storage  Rating  Selling Price  \\\n",
       "0  OPPO   A53  Moonlight Black   4 GB   64 GB     4.5        11990.0   \n",
       "1  OPPO   A53       Mint Cream   4 GB   64 GB     4.5        11990.0   \n",
       "2  OPPO   A53  Moonlight Black   6 GB  128 GB     4.3        13990.0   \n",
       "3  OPPO   A53       Mint Cream   6 GB  128 GB     4.3        13990.0   \n",
       "4  OPPO   A53   Electric Black   4 GB   64 GB     4.5        11990.0   \n",
       "\n",
       "   Original Price  \n",
       "0           15990  \n",
       "1          100000  \n",
       "2           17990  \n",
       "3           17990  \n",
       "4           15990  "
      ]
     },
     "execution_count": 2,
     "metadata": {},
     "output_type": "execute_result"
    }
   ],
   "source": [
    "df = pd.read_csv('C:/Users/dania/Desktop/python/Data _Analysis\\Mobile(Brands)(DataCleaning)Dataset/Flipkart_mobile_brands_scraped_data.csv')\n",
    "df.head()"
   ]
  },
  {
   "cell_type": "code",
   "execution_count": 3,
   "id": "c0dc9d02",
   "metadata": {},
   "outputs": [
    {
     "data": {
      "text/plain": [
       "(2647, 8)"
      ]
     },
     "execution_count": 3,
     "metadata": {},
     "output_type": "execute_result"
    }
   ],
   "source": [
    "df.shape"
   ]
  },
  {
   "cell_type": "code",
   "execution_count": 4,
   "id": "da3633df",
   "metadata": {},
   "outputs": [
    {
     "data": {
      "text/html": [
       "<div>\n",
       "<style scoped>\n",
       "    .dataframe tbody tr th:only-of-type {\n",
       "        vertical-align: middle;\n",
       "    }\n",
       "\n",
       "    .dataframe tbody tr th {\n",
       "        vertical-align: top;\n",
       "    }\n",
       "\n",
       "    .dataframe thead th {\n",
       "        text-align: right;\n",
       "    }\n",
       "</style>\n",
       "<table border=\"1\" class=\"dataframe\">\n",
       "  <thead>\n",
       "    <tr style=\"text-align: right;\">\n",
       "      <th></th>\n",
       "      <th>Rating</th>\n",
       "      <th>Selling Price</th>\n",
       "      <th>Original Price</th>\n",
       "    </tr>\n",
       "  </thead>\n",
       "  <tbody>\n",
       "    <tr>\n",
       "      <th>count</th>\n",
       "      <td>2647.000000</td>\n",
       "      <td>2644.000000</td>\n",
       "      <td>2647.000000</td>\n",
       "    </tr>\n",
       "    <tr>\n",
       "      <th>mean</th>\n",
       "      <td>4.001700</td>\n",
       "      <td>26461.362330</td>\n",
       "      <td>28433.212694</td>\n",
       "    </tr>\n",
       "    <tr>\n",
       "      <th>std</th>\n",
       "      <td>0.997499</td>\n",
       "      <td>29833.135164</td>\n",
       "      <td>31513.339389</td>\n",
       "    </tr>\n",
       "    <tr>\n",
       "      <th>min</th>\n",
       "      <td>0.000000</td>\n",
       "      <td>1000.000000</td>\n",
       "      <td>1000.000000</td>\n",
       "    </tr>\n",
       "    <tr>\n",
       "      <th>25%</th>\n",
       "      <td>4.000000</td>\n",
       "      <td>9490.000000</td>\n",
       "      <td>9999.000000</td>\n",
       "    </tr>\n",
       "    <tr>\n",
       "      <th>50%</th>\n",
       "      <td>4.300000</td>\n",
       "      <td>14999.000000</td>\n",
       "      <td>15999.000000</td>\n",
       "    </tr>\n",
       "    <tr>\n",
       "      <th>75%</th>\n",
       "      <td>4.400000</td>\n",
       "      <td>29998.250000</td>\n",
       "      <td>31999.000000</td>\n",
       "    </tr>\n",
       "    <tr>\n",
       "      <th>max</th>\n",
       "      <td>5.000000</td>\n",
       "      <td>179900.000000</td>\n",
       "      <td>189999.000000</td>\n",
       "    </tr>\n",
       "  </tbody>\n",
       "</table>\n",
       "</div>"
      ],
      "text/plain": [
       "            Rating  Selling Price  Original Price\n",
       "count  2647.000000    2644.000000     2647.000000\n",
       "mean      4.001700   26461.362330    28433.212694\n",
       "std       0.997499   29833.135164    31513.339389\n",
       "min       0.000000    1000.000000     1000.000000\n",
       "25%       4.000000    9490.000000     9999.000000\n",
       "50%       4.300000   14999.000000    15999.000000\n",
       "75%       4.400000   29998.250000    31999.000000\n",
       "max       5.000000  179900.000000   189999.000000"
      ]
     },
     "execution_count": 4,
     "metadata": {},
     "output_type": "execute_result"
    }
   ],
   "source": [
    "df.describe()"
   ]
  },
  {
   "cell_type": "code",
   "execution_count": 5,
   "id": "c129ea1d",
   "metadata": {},
   "outputs": [
    {
     "name": "stdout",
     "output_type": "stream",
     "text": [
      "<class 'pandas.core.frame.DataFrame'>\n",
      "RangeIndex: 2647 entries, 0 to 2646\n",
      "Data columns (total 8 columns):\n",
      " #   Column          Non-Null Count  Dtype  \n",
      "---  ------          --------------  -----  \n",
      " 0   Brand           2647 non-null   object \n",
      " 1   Model           2645 non-null   object \n",
      " 2   Color           2505 non-null   object \n",
      " 3   Memory          2605 non-null   object \n",
      " 4   Storage         2568 non-null   object \n",
      " 5   Rating          2647 non-null   float64\n",
      " 6   Selling Price   2644 non-null   float64\n",
      " 7   Original Price  2647 non-null   int64  \n",
      "dtypes: float64(2), int64(1), object(5)\n",
      "memory usage: 165.6+ KB\n"
     ]
    }
   ],
   "source": [
    "df.info()"
   ]
  },
  {
   "cell_type": "code",
   "execution_count": 6,
   "id": "8b0a1072",
   "metadata": {},
   "outputs": [
    {
     "data": {
      "text/plain": [
       "(2647, 8)"
      ]
     },
     "execution_count": 6,
     "metadata": {},
     "output_type": "execute_result"
    }
   ],
   "source": [
    "df.shape"
   ]
  },
  {
   "cell_type": "code",
   "execution_count": 7,
   "id": "21ccedac",
   "metadata": {},
   "outputs": [],
   "source": [
    "df = pd.DataFrame(df)"
   ]
  },
  {
   "cell_type": "code",
   "execution_count": 8,
   "id": "d66a6234",
   "metadata": {},
   "outputs": [
    {
     "data": {
      "text/html": [
       "<div>\n",
       "<style scoped>\n",
       "    .dataframe tbody tr th:only-of-type {\n",
       "        vertical-align: middle;\n",
       "    }\n",
       "\n",
       "    .dataframe tbody tr th {\n",
       "        vertical-align: top;\n",
       "    }\n",
       "\n",
       "    .dataframe thead th {\n",
       "        text-align: right;\n",
       "    }\n",
       "</style>\n",
       "<table border=\"1\" class=\"dataframe\">\n",
       "  <thead>\n",
       "    <tr style=\"text-align: right;\">\n",
       "      <th></th>\n",
       "      <th>Brand</th>\n",
       "      <th>Model</th>\n",
       "      <th>Color</th>\n",
       "      <th>Memory</th>\n",
       "      <th>Storage</th>\n",
       "      <th>Rating</th>\n",
       "      <th>Selling Price</th>\n",
       "      <th>Original Price</th>\n",
       "    </tr>\n",
       "  </thead>\n",
       "  <tbody>\n",
       "    <tr>\n",
       "      <th>0</th>\n",
       "      <td>OPPO</td>\n",
       "      <td>A53</td>\n",
       "      <td>Moonlight Black</td>\n",
       "      <td>4 GB</td>\n",
       "      <td>64 GB</td>\n",
       "      <td>4.5</td>\n",
       "      <td>11990.0</td>\n",
       "      <td>15990</td>\n",
       "    </tr>\n",
       "    <tr>\n",
       "      <th>1</th>\n",
       "      <td>OPPO</td>\n",
       "      <td>A53</td>\n",
       "      <td>Mint Cream</td>\n",
       "      <td>4 GB</td>\n",
       "      <td>64 GB</td>\n",
       "      <td>4.5</td>\n",
       "      <td>11990.0</td>\n",
       "      <td>100000</td>\n",
       "    </tr>\n",
       "    <tr>\n",
       "      <th>2</th>\n",
       "      <td>OPPO</td>\n",
       "      <td>A53</td>\n",
       "      <td>Moonlight Black</td>\n",
       "      <td>6 GB</td>\n",
       "      <td>128 GB</td>\n",
       "      <td>4.3</td>\n",
       "      <td>13990.0</td>\n",
       "      <td>17990</td>\n",
       "    </tr>\n",
       "    <tr>\n",
       "      <th>3</th>\n",
       "      <td>OPPO</td>\n",
       "      <td>A53</td>\n",
       "      <td>Mint Cream</td>\n",
       "      <td>6 GB</td>\n",
       "      <td>128 GB</td>\n",
       "      <td>4.3</td>\n",
       "      <td>13990.0</td>\n",
       "      <td>17990</td>\n",
       "    </tr>\n",
       "    <tr>\n",
       "      <th>4</th>\n",
       "      <td>OPPO</td>\n",
       "      <td>A53</td>\n",
       "      <td>Electric Black</td>\n",
       "      <td>4 GB</td>\n",
       "      <td>64 GB</td>\n",
       "      <td>4.5</td>\n",
       "      <td>11990.0</td>\n",
       "      <td>15990</td>\n",
       "    </tr>\n",
       "    <tr>\n",
       "      <th>...</th>\n",
       "      <td>...</td>\n",
       "      <td>...</td>\n",
       "      <td>...</td>\n",
       "      <td>...</td>\n",
       "      <td>...</td>\n",
       "      <td>...</td>\n",
       "      <td>...</td>\n",
       "      <td>...</td>\n",
       "    </tr>\n",
       "    <tr>\n",
       "      <th>2642</th>\n",
       "      <td>Xiaomi</td>\n",
       "      <td>Redmi Y3</td>\n",
       "      <td>Bold Red</td>\n",
       "      <td>4 GB</td>\n",
       "      <td>64 GB</td>\n",
       "      <td>4.3</td>\n",
       "      <td>12999.0</td>\n",
       "      <td>9450</td>\n",
       "    </tr>\n",
       "    <tr>\n",
       "      <th>2643</th>\n",
       "      <td>Xiaomi</td>\n",
       "      <td>Redmi Y3</td>\n",
       "      <td>Elegant Blue</td>\n",
       "      <td>3 GB</td>\n",
       "      <td>32 GB</td>\n",
       "      <td>4.3</td>\n",
       "      <td>9450.0</td>\n",
       "      <td>12999</td>\n",
       "    </tr>\n",
       "    <tr>\n",
       "      <th>2644</th>\n",
       "      <td>Xiaomi</td>\n",
       "      <td>Redmi Y3</td>\n",
       "      <td>Elegant Blue</td>\n",
       "      <td>4 GB</td>\n",
       "      <td>64 GB</td>\n",
       "      <td>4.2</td>\n",
       "      <td>12999.0</td>\n",
       "      <td>9950</td>\n",
       "    </tr>\n",
       "    <tr>\n",
       "      <th>2645</th>\n",
       "      <td>Xiaomi</td>\n",
       "      <td>Redmi Y3</td>\n",
       "      <td>Prime Black</td>\n",
       "      <td>3 GB</td>\n",
       "      <td>32 GB</td>\n",
       "      <td>4.2</td>\n",
       "      <td>9950.0</td>\n",
       "      <td>13999</td>\n",
       "    </tr>\n",
       "    <tr>\n",
       "      <th>2646</th>\n",
       "      <td>Xiaomi</td>\n",
       "      <td>Redmi Y3</td>\n",
       "      <td>Prime Black</td>\n",
       "      <td>4 GB</td>\n",
       "      <td>64 GB</td>\n",
       "      <td>4.3</td>\n",
       "      <td>12499.0</td>\n",
       "      <td>53990</td>\n",
       "    </tr>\n",
       "  </tbody>\n",
       "</table>\n",
       "<p>2647 rows × 8 columns</p>\n",
       "</div>"
      ],
      "text/plain": [
       "       Brand      Model            Color Memory Storage  Rating  \\\n",
       "0       OPPO        A53  Moonlight Black   4 GB   64 GB     4.5   \n",
       "1       OPPO        A53       Mint Cream   4 GB   64 GB     4.5   \n",
       "2       OPPO        A53  Moonlight Black   6 GB  128 GB     4.3   \n",
       "3       OPPO        A53       Mint Cream   6 GB  128 GB     4.3   \n",
       "4       OPPO        A53   Electric Black   4 GB   64 GB     4.5   \n",
       "...      ...        ...              ...    ...     ...     ...   \n",
       "2642  Xiaomi  Redmi Y3          Bold Red   4 GB   64 GB     4.3   \n",
       "2643  Xiaomi  Redmi Y3      Elegant Blue   3 GB   32 GB     4.3   \n",
       "2644  Xiaomi  Redmi Y3      Elegant Blue   4 GB   64 GB     4.2   \n",
       "2645  Xiaomi  Redmi Y3       Prime Black   3 GB   32 GB     4.2   \n",
       "2646  Xiaomi  Redmi Y3       Prime Black   4 GB   64 GB     4.3   \n",
       "\n",
       "      Selling Price  Original Price  \n",
       "0           11990.0           15990  \n",
       "1           11990.0          100000  \n",
       "2           13990.0           17990  \n",
       "3           13990.0           17990  \n",
       "4           11990.0           15990  \n",
       "...             ...             ...  \n",
       "2642        12999.0            9450  \n",
       "2643         9450.0           12999  \n",
       "2644        12999.0            9950  \n",
       "2645         9950.0           13999  \n",
       "2646        12499.0           53990  \n",
       "\n",
       "[2647 rows x 8 columns]"
      ]
     },
     "execution_count": 8,
     "metadata": {},
     "output_type": "execute_result"
    }
   ],
   "source": [
    "df"
   ]
  },
  {
   "cell_type": "code",
   "execution_count": 9,
   "id": "1be7d082",
   "metadata": {},
   "outputs": [
    {
     "data": {
      "text/html": [
       "<div>\n",
       "<style scoped>\n",
       "    .dataframe tbody tr th:only-of-type {\n",
       "        vertical-align: middle;\n",
       "    }\n",
       "\n",
       "    .dataframe tbody tr th {\n",
       "        vertical-align: top;\n",
       "    }\n",
       "\n",
       "    .dataframe thead th {\n",
       "        text-align: right;\n",
       "    }\n",
       "</style>\n",
       "<table border=\"1\" class=\"dataframe\">\n",
       "  <thead>\n",
       "    <tr style=\"text-align: right;\">\n",
       "      <th></th>\n",
       "      <th>Brand</th>\n",
       "      <th>Model</th>\n",
       "      <th>Color</th>\n",
       "      <th>Memory</th>\n",
       "      <th>Storage</th>\n",
       "      <th>Rating</th>\n",
       "      <th>Selling Price</th>\n",
       "      <th>Original Price</th>\n",
       "    </tr>\n",
       "  </thead>\n",
       "  <tbody>\n",
       "    <tr>\n",
       "      <th>0</th>\n",
       "      <td>OPPO</td>\n",
       "      <td>A53</td>\n",
       "      <td>Moonlight Black</td>\n",
       "      <td>4 GB</td>\n",
       "      <td>64 GB</td>\n",
       "      <td>4.5</td>\n",
       "      <td>11990.0</td>\n",
       "      <td>15990</td>\n",
       "    </tr>\n",
       "    <tr>\n",
       "      <th>1</th>\n",
       "      <td>OPPO</td>\n",
       "      <td>A53</td>\n",
       "      <td>Mint Cream</td>\n",
       "      <td>4 GB</td>\n",
       "      <td>64 GB</td>\n",
       "      <td>4.5</td>\n",
       "      <td>11990.0</td>\n",
       "      <td>100000</td>\n",
       "    </tr>\n",
       "    <tr>\n",
       "      <th>2</th>\n",
       "      <td>OPPO</td>\n",
       "      <td>A53</td>\n",
       "      <td>Moonlight Black</td>\n",
       "      <td>6 GB</td>\n",
       "      <td>128 GB</td>\n",
       "      <td>4.3</td>\n",
       "      <td>13990.0</td>\n",
       "      <td>17990</td>\n",
       "    </tr>\n",
       "    <tr>\n",
       "      <th>3</th>\n",
       "      <td>OPPO</td>\n",
       "      <td>A53</td>\n",
       "      <td>Mint Cream</td>\n",
       "      <td>6 GB</td>\n",
       "      <td>128 GB</td>\n",
       "      <td>4.3</td>\n",
       "      <td>13990.0</td>\n",
       "      <td>17990</td>\n",
       "    </tr>\n",
       "    <tr>\n",
       "      <th>4</th>\n",
       "      <td>OPPO</td>\n",
       "      <td>A53</td>\n",
       "      <td>Electric Black</td>\n",
       "      <td>4 GB</td>\n",
       "      <td>64 GB</td>\n",
       "      <td>4.5</td>\n",
       "      <td>11990.0</td>\n",
       "      <td>15990</td>\n",
       "    </tr>\n",
       "    <tr>\n",
       "      <th>...</th>\n",
       "      <td>...</td>\n",
       "      <td>...</td>\n",
       "      <td>...</td>\n",
       "      <td>...</td>\n",
       "      <td>...</td>\n",
       "      <td>...</td>\n",
       "      <td>...</td>\n",
       "      <td>...</td>\n",
       "    </tr>\n",
       "    <tr>\n",
       "      <th>2642</th>\n",
       "      <td>Xiaomi</td>\n",
       "      <td>Redmi Y3</td>\n",
       "      <td>Bold Red</td>\n",
       "      <td>4 GB</td>\n",
       "      <td>64 GB</td>\n",
       "      <td>4.3</td>\n",
       "      <td>12999.0</td>\n",
       "      <td>9450</td>\n",
       "    </tr>\n",
       "    <tr>\n",
       "      <th>2643</th>\n",
       "      <td>Xiaomi</td>\n",
       "      <td>Redmi Y3</td>\n",
       "      <td>Elegant Blue</td>\n",
       "      <td>3 GB</td>\n",
       "      <td>32 GB</td>\n",
       "      <td>4.3</td>\n",
       "      <td>9450.0</td>\n",
       "      <td>12999</td>\n",
       "    </tr>\n",
       "    <tr>\n",
       "      <th>2644</th>\n",
       "      <td>Xiaomi</td>\n",
       "      <td>Redmi Y3</td>\n",
       "      <td>Elegant Blue</td>\n",
       "      <td>4 GB</td>\n",
       "      <td>64 GB</td>\n",
       "      <td>4.2</td>\n",
       "      <td>12999.0</td>\n",
       "      <td>9950</td>\n",
       "    </tr>\n",
       "    <tr>\n",
       "      <th>2645</th>\n",
       "      <td>Xiaomi</td>\n",
       "      <td>Redmi Y3</td>\n",
       "      <td>Prime Black</td>\n",
       "      <td>3 GB</td>\n",
       "      <td>32 GB</td>\n",
       "      <td>4.2</td>\n",
       "      <td>9950.0</td>\n",
       "      <td>13999</td>\n",
       "    </tr>\n",
       "    <tr>\n",
       "      <th>2646</th>\n",
       "      <td>Xiaomi</td>\n",
       "      <td>Redmi Y3</td>\n",
       "      <td>Prime Black</td>\n",
       "      <td>4 GB</td>\n",
       "      <td>64 GB</td>\n",
       "      <td>4.3</td>\n",
       "      <td>12499.0</td>\n",
       "      <td>53990</td>\n",
       "    </tr>\n",
       "  </tbody>\n",
       "</table>\n",
       "<p>2647 rows × 8 columns</p>\n",
       "</div>"
      ],
      "text/plain": [
       "       Brand      Model            Color Memory Storage  Rating  \\\n",
       "0       OPPO        A53  Moonlight Black   4 GB   64 GB     4.5   \n",
       "1       OPPO        A53       Mint Cream   4 GB   64 GB     4.5   \n",
       "2       OPPO        A53  Moonlight Black   6 GB  128 GB     4.3   \n",
       "3       OPPO        A53       Mint Cream   6 GB  128 GB     4.3   \n",
       "4       OPPO        A53   Electric Black   4 GB   64 GB     4.5   \n",
       "...      ...        ...              ...    ...     ...     ...   \n",
       "2642  Xiaomi  Redmi Y3          Bold Red   4 GB   64 GB     4.3   \n",
       "2643  Xiaomi  Redmi Y3      Elegant Blue   3 GB   32 GB     4.3   \n",
       "2644  Xiaomi  Redmi Y3      Elegant Blue   4 GB   64 GB     4.2   \n",
       "2645  Xiaomi  Redmi Y3       Prime Black   3 GB   32 GB     4.2   \n",
       "2646  Xiaomi  Redmi Y3       Prime Black   4 GB   64 GB     4.3   \n",
       "\n",
       "      Selling Price  Original Price  \n",
       "0           11990.0           15990  \n",
       "1           11990.0          100000  \n",
       "2           13990.0           17990  \n",
       "3           13990.0           17990  \n",
       "4           11990.0           15990  \n",
       "...             ...             ...  \n",
       "2642        12999.0            9450  \n",
       "2643         9450.0           12999  \n",
       "2644        12999.0            9950  \n",
       "2645         9950.0           13999  \n",
       "2646        12499.0           53990  \n",
       "\n",
       "[2647 rows x 8 columns]"
      ]
     },
     "execution_count": 9,
     "metadata": {},
     "output_type": "execute_result"
    }
   ],
   "source": [
    "df['Original Price'].fillna('NAN')\n",
    "df"
   ]
  },
  {
   "cell_type": "code",
   "execution_count": 10,
   "id": "cb5e32af",
   "metadata": {},
   "outputs": [
    {
     "data": {
      "text/plain": [
       "Brand               0\n",
       "Model               2\n",
       "Color             142\n",
       "Memory             42\n",
       "Storage            79\n",
       "Rating              0\n",
       "Selling Price       3\n",
       "Original Price      0\n",
       "dtype: int64"
      ]
     },
     "execution_count": 10,
     "metadata": {},
     "output_type": "execute_result"
    }
   ],
   "source": [
    "df.isnull().sum()"
   ]
  },
  {
   "cell_type": "code",
   "execution_count": 11,
   "id": "c2b20f69",
   "metadata": {},
   "outputs": [
    {
     "data": {
      "text/plain": [
       "Brand             0.000000\n",
       "Model             0.075557\n",
       "Color             5.364564\n",
       "Memory            1.586702\n",
       "Storage           2.984511\n",
       "Rating            0.000000\n",
       "Selling Price     0.113336\n",
       "Original Price    0.000000\n",
       "dtype: float64"
      ]
     },
     "execution_count": 11,
     "metadata": {},
     "output_type": "execute_result"
    }
   ],
   "source": [
    "(df.isnull().sum()/df.shape[0])*100"
   ]
  },
  {
   "cell_type": "code",
   "execution_count": 12,
   "id": "2a259e55",
   "metadata": {},
   "outputs": [
    {
     "data": {
      "image/png": "[encoded data removed]",
      "text/plain": [
       "<Figure size 640x480 with 2 Axes>"
      ]
     },
     "metadata": {},
     "output_type": "display_data"
    }
   ],
   "source": [
    "sns.heatmap(df.isnull())\n",
    "plt.show()"
   ]
  },
  {
   "cell_type": "markdown",
   "id": "a74b8391",
   "metadata": {},
   "source": [
    "# Handel Missing Data in 'Model', 'Color', 'Memory', 'Storage' Columns"
   ]
  },
  {
   "cell_type": "code",
   "execution_count": 13,
   "id": "aadfd6fd",
   "metadata": {},
   "outputs": [
    {
     "data": {
      "text/plain": [
       "Brand        0\n",
       "Model        2\n",
       "Color      142\n",
       "Memory      42\n",
       "Storage     79\n",
       "dtype: int64"
      ]
     },
     "execution_count": 13,
     "metadata": {},
     "output_type": "execute_result"
    }
   ],
   "source": [
    "df.select_dtypes(include=\"object\").isnull().sum()\n"
   ]
  },
  {
   "cell_type": "code",
   "execution_count": 14,
   "id": "d13be962",
   "metadata": {},
   "outputs": [
    {
     "data": {
      "text/plain": [
       "Index(['Brand', 'Model', 'Color', 'Memory', 'Storage'], dtype='object')"
      ]
     },
     "execution_count": 14,
     "metadata": {},
     "output_type": "execute_result"
    }
   ],
   "source": [
    "df.select_dtypes(include=\"object\").columns"
   ]
  },
  {
   "cell_type": "code",
   "execution_count": 15,
   "id": "037ecf17",
   "metadata": {},
   "outputs": [
    {
     "data": {
      "text/plain": [
       "0        3\n",
       "1    3 XL \n",
       "Name: Model, dtype: object"
      ]
     },
     "execution_count": 15,
     "metadata": {},
     "output_type": "execute_result"
    }
   ],
   "source": [
    "df[df[\"Brand\"]=='Google Pixel']['Model'].mode()"
   ]
  },
  {
   "cell_type": "code",
   "execution_count": 16,
   "id": "453b5476",
   "metadata": {},
   "outputs": [],
   "source": [
    "df[\"Model\"].fillna(df[df[\"Brand\"]=='Google Pixel']['Model'].mode()[1],inplace=True)"
   ]
  },
  {
   "cell_type": "code",
   "execution_count": 17,
   "id": "ca225574",
   "metadata": {},
   "outputs": [
    {
     "data": {
      "text/plain": [
       "0"
      ]
     },
     "execution_count": 17,
     "metadata": {},
     "output_type": "execute_result"
    }
   ],
   "source": [
    "df[\"Model\"].isnull().sum()"
   ]
  },
  {
   "cell_type": "code",
   "execution_count": 18,
   "id": "4f4fe70c",
   "metadata": {},
   "outputs": [
    {
     "data": {
      "text/plain": [
       "5.364563656970154"
      ]
     },
     "execution_count": 18,
     "metadata": {},
     "output_type": "execute_result"
    }
   ],
   "source": [
    "(df[\"Color\"].isnull().sum()/df.shape[0])*100"
   ]
  },
  {
   "cell_type": "code",
   "execution_count": 19,
   "id": "9afb3d1c",
   "metadata": {},
   "outputs": [],
   "source": [
    "df[\"Color\"].fillna(df[\"Color\"].mode()[0],inplace=True)"
   ]
  },
  {
   "cell_type": "code",
   "execution_count": 20,
   "id": "7ffd3e7c",
   "metadata": {},
   "outputs": [
    {
     "data": {
      "text/plain": [
       "0"
      ]
     },
     "execution_count": 20,
     "metadata": {},
     "output_type": "execute_result"
    }
   ],
   "source": [
    "df[\"Color\"].isnull().sum()"
   ]
  },
  {
   "cell_type": "code",
   "execution_count": 21,
   "id": "b821bb0e",
   "metadata": {},
   "outputs": [
    {
     "data": {
      "text/html": [
       "<div>\n",
       "<style scoped>\n",
       "    .dataframe tbody tr th:only-of-type {\n",
       "        vertical-align: middle;\n",
       "    }\n",
       "\n",
       "    .dataframe tbody tr th {\n",
       "        vertical-align: top;\n",
       "    }\n",
       "\n",
       "    .dataframe thead th {\n",
       "        text-align: right;\n",
       "    }\n",
       "</style>\n",
       "<table border=\"1\" class=\"dataframe\">\n",
       "  <thead>\n",
       "    <tr style=\"text-align: right;\">\n",
       "      <th></th>\n",
       "      <th>Brand</th>\n",
       "      <th>Model</th>\n",
       "      <th>Color</th>\n",
       "      <th>Memory</th>\n",
       "      <th>Storage</th>\n",
       "      <th>Rating</th>\n",
       "      <th>Selling Price</th>\n",
       "      <th>Original Price</th>\n",
       "    </tr>\n",
       "  </thead>\n",
       "  <tbody>\n",
       "    <tr>\n",
       "      <th>0</th>\n",
       "      <td>OPPO</td>\n",
       "      <td>A53</td>\n",
       "      <td>Moonlight Black</td>\n",
       "      <td>4 GB</td>\n",
       "      <td>64 GB</td>\n",
       "      <td>4.5</td>\n",
       "      <td>11990.0</td>\n",
       "      <td>15990</td>\n",
       "    </tr>\n",
       "    <tr>\n",
       "      <th>1</th>\n",
       "      <td>OPPO</td>\n",
       "      <td>A53</td>\n",
       "      <td>Mint Cream</td>\n",
       "      <td>4 GB</td>\n",
       "      <td>64 GB</td>\n",
       "      <td>4.5</td>\n",
       "      <td>11990.0</td>\n",
       "      <td>100000</td>\n",
       "    </tr>\n",
       "    <tr>\n",
       "      <th>2</th>\n",
       "      <td>OPPO</td>\n",
       "      <td>A53</td>\n",
       "      <td>Moonlight Black</td>\n",
       "      <td>6 GB</td>\n",
       "      <td>128 GB</td>\n",
       "      <td>4.3</td>\n",
       "      <td>13990.0</td>\n",
       "      <td>17990</td>\n",
       "    </tr>\n",
       "  </tbody>\n",
       "</table>\n",
       "</div>"
      ],
      "text/plain": [
       "  Brand Model            Color Memory Storage  Rating  Selling Price  \\\n",
       "0  OPPO   A53  Moonlight Black   4 GB   64 GB     4.5        11990.0   \n",
       "1  OPPO   A53       Mint Cream   4 GB   64 GB     4.5        11990.0   \n",
       "2  OPPO   A53  Moonlight Black   6 GB  128 GB     4.3        13990.0   \n",
       "\n",
       "   Original Price  \n",
       "0           15990  \n",
       "1          100000  \n",
       "2           17990  "
      ]
     },
     "execution_count": 21,
     "metadata": {},
     "output_type": "execute_result"
    }
   ],
   "source": [
    "df.head(3)"
   ]
  },
  {
   "cell_type": "code",
   "execution_count": 22,
   "id": "bf3d9b2f",
   "metadata": {},
   "outputs": [
    {
     "data": {
      "text/plain": [
       "array(['4 GB', '6 GB', '3 GB', '8 GB', '2 GB', '12 GB', '1 GB', '512 MB',\n",
       "       '1.5 GB', '768 MB', '16 GB', '18 GB', '8 MB', '64 MB', '4 MB',\n",
       "       '32 MB', '16 MB', '128 MB', nan, '256 MB', '4GB', '6GB', '153 MB',\n",
       "       '2 MB', '10 MB', '46 MB', '0 MB', '32 GB', '0.5 GB', '100 MB',\n",
       "       '30 MB', '717 MB'], dtype=object)"
      ]
     },
     "execution_count": 22,
     "metadata": {},
     "output_type": "execute_result"
    }
   ],
   "source": [
    "df[\"Memory\"].unique()"
   ]
  },
  {
   "cell_type": "code",
   "execution_count": 23,
   "id": "9c5e2d65",
   "metadata": {},
   "outputs": [
    {
     "data": {
      "text/plain": [
       "array(['4 GB', '6 GB', '3 GB', '8 GB', '2 GB', '12 GB', '1 GB', '512 MB',\n",
       "       '1.5 GB', '768 MB', '16 GB', '18 GB', '8 MB', '64 MB', '4 MB',\n",
       "       '32 MB', '16 MB', '128 MB', nan, '256 MB', '4GB', '6GB', '153 MB',\n",
       "       '2 MB', '10 MB', '46 MB', '0 MB', '32 GB', '0.5 GB', '100 MB',\n",
       "       '30 MB', '717 MB'], dtype=object)"
      ]
     },
     "execution_count": 23,
     "metadata": {},
     "output_type": "execute_result"
    }
   ],
   "source": [
    "df[\"Memory\"].unique()"
   ]
  },
  {
   "cell_type": "code",
   "execution_count": 24,
   "id": "1b511fd1",
   "metadata": {},
   "outputs": [],
   "source": [
    "df[\"Memory\"].fillna(method=\"ffill\", inplace=True)"
   ]
  },
  {
   "cell_type": "code",
   "execution_count": 25,
   "id": "699185c6",
   "metadata": {},
   "outputs": [],
   "source": [
    "def convert(x):\n",
    "    # Ensure the value is a string\n",
    "    x = str(x).strip()\n",
    "    # Check if there is no space between the value and the unit\n",
    "    if ' ' not in x:\n",
    "        if 'MB' in x:\n",
    "            value = x.replace('MB', '').strip()\n",
    "            return f\"{float(value) / 1024:.2f} GB\"\n",
    "        elif 'GB' in x:\n",
    "            value = x.replace('GB', '').strip()\n",
    "            return f\"{float(value)} GB\"\n",
    "    else:\n",
    "        p = x.split(' ')\n",
    "        try:\n",
    "            if p[1] == 'MB':\n",
    "                return f\"{float(p[0]) / 1024:.2f} GB\"\n",
    "            else:\n",
    "                return x\n",
    "        except:\n",
    "            return x\n",
    "\n",
    "df[\"Memory_GB\"] = df[\"Memory\"].apply(convert)"
   ]
  },
  {
   "cell_type": "code",
   "execution_count": 26,
   "id": "4a63a080",
   "metadata": {
    "scrolled": false
   },
   "outputs": [
    {
     "data": {
      "text/html": [
       "<div>\n",
       "<style scoped>\n",
       "    .dataframe tbody tr th:only-of-type {\n",
       "        vertical-align: middle;\n",
       "    }\n",
       "\n",
       "    .dataframe tbody tr th {\n",
       "        vertical-align: top;\n",
       "    }\n",
       "\n",
       "    .dataframe thead th {\n",
       "        text-align: right;\n",
       "    }\n",
       "</style>\n",
       "<table border=\"1\" class=\"dataframe\">\n",
       "  <thead>\n",
       "    <tr style=\"text-align: right;\">\n",
       "      <th></th>\n",
       "      <th>Brand</th>\n",
       "      <th>Model</th>\n",
       "      <th>Color</th>\n",
       "      <th>Memory</th>\n",
       "      <th>Storage</th>\n",
       "      <th>Rating</th>\n",
       "      <th>Selling Price</th>\n",
       "      <th>Original Price</th>\n",
       "      <th>Memory_GB</th>\n",
       "    </tr>\n",
       "  </thead>\n",
       "  <tbody>\n",
       "    <tr>\n",
       "      <th>322</th>\n",
       "      <td>LG</td>\n",
       "      <td>L60 Dual</td>\n",
       "      <td>White</td>\n",
       "      <td>512 MB</td>\n",
       "      <td>4 GB</td>\n",
       "      <td>3.7</td>\n",
       "      <td>8800.0</td>\n",
       "      <td>8800</td>\n",
       "      <td>0.50 GB</td>\n",
       "    </tr>\n",
       "    <tr>\n",
       "      <th>325</th>\n",
       "      <td>LG</td>\n",
       "      <td>Optimus L5 II</td>\n",
       "      <td>Black</td>\n",
       "      <td>512 MB</td>\n",
       "      <td>4 GB</td>\n",
       "      <td>4.5</td>\n",
       "      <td>10199.0</td>\n",
       "      <td>10199</td>\n",
       "      <td>0.50 GB</td>\n",
       "    </tr>\n",
       "    <tr>\n",
       "      <th>360</th>\n",
       "      <td>LG</td>\n",
       "      <td>Optimus L3 II E425</td>\n",
       "      <td>Black</td>\n",
       "      <td>512 MB</td>\n",
       "      <td>4 GB</td>\n",
       "      <td>3.9</td>\n",
       "      <td>6299.0</td>\n",
       "      <td>6299</td>\n",
       "      <td>0.50 GB</td>\n",
       "    </tr>\n",
       "    <tr>\n",
       "      <th>361</th>\n",
       "      <td>LG</td>\n",
       "      <td>Optimus L7 II Dual</td>\n",
       "      <td>White</td>\n",
       "      <td>768 MB</td>\n",
       "      <td>4 GB</td>\n",
       "      <td>4.0</td>\n",
       "      <td>13299.0</td>\n",
       "      <td>13299</td>\n",
       "      <td>0.75 GB</td>\n",
       "    </tr>\n",
       "    <tr>\n",
       "      <th>798</th>\n",
       "      <td>GIONEE</td>\n",
       "      <td>L800</td>\n",
       "      <td>Black</td>\n",
       "      <td>8 MB</td>\n",
       "      <td>16 MB</td>\n",
       "      <td>4.0</td>\n",
       "      <td>2199.0</td>\n",
       "      <td>2199</td>\n",
       "      <td>0.01 GB</td>\n",
       "    </tr>\n",
       "    <tr>\n",
       "      <th>...</th>\n",
       "      <td>...</td>\n",
       "      <td>...</td>\n",
       "      <td>...</td>\n",
       "      <td>...</td>\n",
       "      <td>...</td>\n",
       "      <td>...</td>\n",
       "      <td>...</td>\n",
       "      <td>...</td>\n",
       "      <td>...</td>\n",
       "    </tr>\n",
       "    <tr>\n",
       "      <th>2186</th>\n",
       "      <td>Lenovo</td>\n",
       "      <td>A269i</td>\n",
       "      <td>Black</td>\n",
       "      <td>256 MB</td>\n",
       "      <td>512 MB</td>\n",
       "      <td>3.7</td>\n",
       "      <td>5499.0</td>\n",
       "      <td>8490</td>\n",
       "      <td>0.25 GB</td>\n",
       "    </tr>\n",
       "    <tr>\n",
       "      <th>2251</th>\n",
       "      <td>Lenovo</td>\n",
       "      <td>A390</td>\n",
       "      <td>White</td>\n",
       "      <td>512 MB</td>\n",
       "      <td>4 GB</td>\n",
       "      <td>3.7</td>\n",
       "      <td>7580.0</td>\n",
       "      <td>13999</td>\n",
       "      <td>0.50 GB</td>\n",
       "    </tr>\n",
       "    <tr>\n",
       "      <th>2288</th>\n",
       "      <td>Lenovo</td>\n",
       "      <td>A319</td>\n",
       "      <td>Black</td>\n",
       "      <td>512 MB</td>\n",
       "      <td>4 GB</td>\n",
       "      <td>3.6</td>\n",
       "      <td>4200.0</td>\n",
       "      <td>3549</td>\n",
       "      <td>0.50 GB</td>\n",
       "    </tr>\n",
       "    <tr>\n",
       "      <th>2363</th>\n",
       "      <td>Motorola</td>\n",
       "      <td>Quench X T3</td>\n",
       "      <td>Black</td>\n",
       "      <td>100 MB</td>\n",
       "      <td>Expandable Upto 32 GB</td>\n",
       "      <td>2.4</td>\n",
       "      <td>14939.0</td>\n",
       "      <td>23999</td>\n",
       "      <td>0.10 GB</td>\n",
       "    </tr>\n",
       "    <tr>\n",
       "      <th>2370</th>\n",
       "      <td>Motorola</td>\n",
       "      <td>XT502</td>\n",
       "      <td>100 MB</td>\n",
       "      <td>100 MB</td>\n",
       "      <td>Expandable Upto 32 GB</td>\n",
       "      <td>3.8</td>\n",
       "      <td>15990.0</td>\n",
       "      <td>11829</td>\n",
       "      <td>0.10 GB</td>\n",
       "    </tr>\n",
       "  </tbody>\n",
       "</table>\n",
       "<p>161 rows × 9 columns</p>\n",
       "</div>"
      ],
      "text/plain": [
       "         Brand                Model   Color  Memory                Storage  \\\n",
       "322         LG            L60 Dual    White  512 MB                   4 GB   \n",
       "325         LG       Optimus L5 II    Black  512 MB                   4 GB   \n",
       "360         LG  Optimus L3 II E425    Black  512 MB                   4 GB   \n",
       "361         LG  Optimus L7 II Dual    White  768 MB                   4 GB   \n",
       "798     GIONEE                 L800   Black    8 MB                  16 MB   \n",
       "...        ...                  ...     ...     ...                    ...   \n",
       "2186    Lenovo               A269i    Black  256 MB                 512 MB   \n",
       "2251    Lenovo                A390    White  512 MB                   4 GB   \n",
       "2288    Lenovo                A319    Black  512 MB                   4 GB   \n",
       "2363  Motorola          Quench X T3   Black  100 MB  Expandable Upto 32 GB   \n",
       "2370  Motorola                XT502  100 MB  100 MB  Expandable Upto 32 GB   \n",
       "\n",
       "      Rating  Selling Price  Original Price Memory_GB  \n",
       "322      3.7         8800.0            8800   0.50 GB  \n",
       "325      4.5        10199.0           10199   0.50 GB  \n",
       "360      3.9         6299.0            6299   0.50 GB  \n",
       "361      4.0        13299.0           13299   0.75 GB  \n",
       "798      4.0         2199.0            2199   0.01 GB  \n",
       "...      ...            ...             ...       ...  \n",
       "2186     3.7         5499.0            8490   0.25 GB  \n",
       "2251     3.7         7580.0           13999   0.50 GB  \n",
       "2288     3.6         4200.0            3549   0.50 GB  \n",
       "2363     2.4        14939.0           23999   0.10 GB  \n",
       "2370     3.8        15990.0           11829   0.10 GB  \n",
       "\n",
       "[161 rows x 9 columns]"
      ]
     },
     "execution_count": 26,
     "metadata": {},
     "output_type": "execute_result"
    }
   ],
   "source": [
    "df[df[\"Memory\"].str.split(pat=\" \").str[1]=='MB']"
   ]
  },
  {
   "cell_type": "code",
   "execution_count": 27,
   "id": "507b10cd",
   "metadata": {},
   "outputs": [
    {
     "data": {
      "text/plain": [
       "array(['4 GB', '6 GB', '3 GB', '8 GB', '2 GB', '12 GB', '1 GB', '512 MB',\n",
       "       '1.5 GB', '768 MB', '16 GB', '18 GB', '8 MB', '64 MB', '4 MB',\n",
       "       '32 MB', '16 MB', '128 MB', '256 MB', '4GB', '6GB', '153 MB',\n",
       "       '2 MB', '10 MB', '46 MB', '0 MB', '32 GB', '0.5 GB', '100 MB',\n",
       "       '30 MB', '717 MB'], dtype=object)"
      ]
     },
     "execution_count": 27,
     "metadata": {},
     "output_type": "execute_result"
    }
   ],
   "source": [
    "df[\"Memory\"].unique()"
   ]
  },
  {
   "cell_type": "code",
   "execution_count": 28,
   "id": "93b080af",
   "metadata": {},
   "outputs": [
    {
     "data": {
      "text/plain": [
       "array(['4 GB', '6 GB', '3 GB', '8 GB', '2 GB', '12 GB', '1 GB', '0.50 GB',\n",
       "       '1.5 GB', '0.75 GB', '16 GB', '18 GB', '0.01 GB', '0.06 GB',\n",
       "       '0.00 GB', '0.03 GB', '0.02 GB', '0.12 GB', '0.25 GB', '4.0 GB',\n",
       "       '6.0 GB', '0.15 GB', '0.04 GB', '32 GB', '0.5 GB', '0.10 GB',\n",
       "       '0.70 GB'], dtype=object)"
      ]
     },
     "execution_count": 28,
     "metadata": {},
     "output_type": "execute_result"
    }
   ],
   "source": [
    "df[\"Memory_GB\"].unique()"
   ]
  },
  {
   "cell_type": "code",
   "execution_count": 29,
   "id": "572f5633",
   "metadata": {},
   "outputs": [
    {
     "data": {
      "text/html": [
       "<div>\n",
       "<style scoped>\n",
       "    .dataframe tbody tr th:only-of-type {\n",
       "        vertical-align: middle;\n",
       "    }\n",
       "\n",
       "    .dataframe tbody tr th {\n",
       "        vertical-align: top;\n",
       "    }\n",
       "\n",
       "    .dataframe thead th {\n",
       "        text-align: right;\n",
       "    }\n",
       "</style>\n",
       "<table border=\"1\" class=\"dataframe\">\n",
       "  <thead>\n",
       "    <tr style=\"text-align: right;\">\n",
       "      <th></th>\n",
       "      <th>Brand</th>\n",
       "      <th>Model</th>\n",
       "      <th>Color</th>\n",
       "      <th>Memory</th>\n",
       "      <th>Storage</th>\n",
       "      <th>Rating</th>\n",
       "      <th>Selling Price</th>\n",
       "      <th>Original Price</th>\n",
       "      <th>Memory_GB</th>\n",
       "    </tr>\n",
       "  </thead>\n",
       "  <tbody>\n",
       "    <tr>\n",
       "      <th>0</th>\n",
       "      <td>OPPO</td>\n",
       "      <td>A53</td>\n",
       "      <td>Moonlight Black</td>\n",
       "      <td>4 GB</td>\n",
       "      <td>64 GB</td>\n",
       "      <td>4.5</td>\n",
       "      <td>11990.0</td>\n",
       "      <td>15990</td>\n",
       "      <td>4 GB</td>\n",
       "    </tr>\n",
       "    <tr>\n",
       "      <th>1</th>\n",
       "      <td>OPPO</td>\n",
       "      <td>A53</td>\n",
       "      <td>Mint Cream</td>\n",
       "      <td>4 GB</td>\n",
       "      <td>64 GB</td>\n",
       "      <td>4.5</td>\n",
       "      <td>11990.0</td>\n",
       "      <td>100000</td>\n",
       "      <td>4 GB</td>\n",
       "    </tr>\n",
       "    <tr>\n",
       "      <th>2</th>\n",
       "      <td>OPPO</td>\n",
       "      <td>A53</td>\n",
       "      <td>Moonlight Black</td>\n",
       "      <td>6 GB</td>\n",
       "      <td>128 GB</td>\n",
       "      <td>4.3</td>\n",
       "      <td>13990.0</td>\n",
       "      <td>17990</td>\n",
       "      <td>6 GB</td>\n",
       "    </tr>\n",
       "    <tr>\n",
       "      <th>3</th>\n",
       "      <td>OPPO</td>\n",
       "      <td>A53</td>\n",
       "      <td>Mint Cream</td>\n",
       "      <td>6 GB</td>\n",
       "      <td>128 GB</td>\n",
       "      <td>4.3</td>\n",
       "      <td>13990.0</td>\n",
       "      <td>17990</td>\n",
       "      <td>6 GB</td>\n",
       "    </tr>\n",
       "    <tr>\n",
       "      <th>4</th>\n",
       "      <td>OPPO</td>\n",
       "      <td>A53</td>\n",
       "      <td>Electric Black</td>\n",
       "      <td>4 GB</td>\n",
       "      <td>64 GB</td>\n",
       "      <td>4.5</td>\n",
       "      <td>11990.0</td>\n",
       "      <td>15990</td>\n",
       "      <td>4 GB</td>\n",
       "    </tr>\n",
       "  </tbody>\n",
       "</table>\n",
       "</div>"
      ],
      "text/plain": [
       "  Brand Model            Color Memory Storage  Rating  Selling Price  \\\n",
       "0  OPPO   A53  Moonlight Black   4 GB   64 GB     4.5        11990.0   \n",
       "1  OPPO   A53       Mint Cream   4 GB   64 GB     4.5        11990.0   \n",
       "2  OPPO   A53  Moonlight Black   6 GB  128 GB     4.3        13990.0   \n",
       "3  OPPO   A53       Mint Cream   6 GB  128 GB     4.3        13990.0   \n",
       "4  OPPO   A53   Electric Black   4 GB   64 GB     4.5        11990.0   \n",
       "\n",
       "   Original Price Memory_GB  \n",
       "0           15990      4 GB  \n",
       "1          100000      4 GB  \n",
       "2           17990      6 GB  \n",
       "3           17990      6 GB  \n",
       "4           15990      4 GB  "
      ]
     },
     "execution_count": 29,
     "metadata": {},
     "output_type": "execute_result"
    }
   ],
   "source": [
    "df.head()"
   ]
  },
  {
   "cell_type": "code",
   "execution_count": 30,
   "id": "ac92b4f7",
   "metadata": {},
   "outputs": [
    {
     "data": {
      "text/plain": [
       "79"
      ]
     },
     "execution_count": 30,
     "metadata": {},
     "output_type": "execute_result"
    }
   ],
   "source": [
    "df['Storage'].isnull().sum()"
   ]
  },
  {
   "cell_type": "code",
   "execution_count": 31,
   "id": "f4d007f2",
   "metadata": {},
   "outputs": [
    {
     "data": {
      "text/plain": [
       "array(['64 GB', '128 GB', '32 GB', '256 GB', '16 GB', '8 GB', '64GB GB',\n",
       "       '4 GB', '512 GB', nan, '16 MB', '128 MB', '4 MB', '48 MB', '8 MB',\n",
       "       'Expandable Upto 32 GB', 'Expandable Upto 16 GB', '10 MB',\n",
       "       '256 MB', '140 MB', '64 MB', '1 TB', '32GB', '2.27 MB', '2 MB',\n",
       "       '153 MB', '512 MB', '2.3 MB', '1 MB', '0 MB', '100 MB', '65 GB'],\n",
       "      dtype=object)"
      ]
     },
     "execution_count": 31,
     "metadata": {},
     "output_type": "execute_result"
    }
   ],
   "source": [
    "df['Storage'].unique()"
   ]
  },
  {
   "cell_type": "code",
   "execution_count": 32,
   "id": "724b927a",
   "metadata": {},
   "outputs": [],
   "source": [
    "p=df[df['Storage'].str.split(pat=\" \").str[0]==\"Expandable\"]\n",
    "\n",
    "def converts(x):\n",
    "    # Ensure the value is a string\n",
    "    x = str(x).strip()\n",
    "    # Check if there is no space between the value and the unit\n",
    "    p = x.split(' ')\n",
    "    try:\n",
    "        if p[0] == 'Expandable':\n",
    "            return f\"{p[2]} GB\"\n",
    "        else:\n",
    "            return x\n",
    "    except:\n",
    "        return x\n",
    "df[\"Storage\"]=df[\"Storage\"].apply(converts)"
   ]
  },
  {
   "cell_type": "code",
   "execution_count": 33,
   "id": "0c223a88",
   "metadata": {},
   "outputs": [],
   "source": [
    "df[\"Storage\"]=df[\"Storage\"].replace('nan',\"64 GB\")"
   ]
  },
  {
   "cell_type": "code",
   "execution_count": 34,
   "id": "431b5675",
   "metadata": {},
   "outputs": [
    {
     "data": {
      "text/plain": [
       "array(['64 GB', '128 GB', '32 GB', '256 GB', '16 GB', '8 GB', '64GB GB',\n",
       "       '4 GB', '512 GB', '16 MB', '128 MB', '4 MB', '48 MB', '8 MB',\n",
       "       '10 MB', '256 MB', '140 MB', '64 MB', '1 TB', '32GB', '2.27 MB',\n",
       "       '2 MB', '153 MB', '512 MB', '2.3 MB', '1 MB', '0 MB', '100 MB',\n",
       "       '65 GB'], dtype=object)"
      ]
     },
     "execution_count": 34,
     "metadata": {},
     "output_type": "execute_result"
    }
   ],
   "source": [
    "df[\"Storage\"].unique()"
   ]
  },
  {
   "cell_type": "code",
   "execution_count": 35,
   "id": "75f8efc8",
   "metadata": {},
   "outputs": [
    {
     "data": {
      "text/plain": [
       "0    64 GB\n",
       "Name: Storage, dtype: object"
      ]
     },
     "execution_count": 35,
     "metadata": {},
     "output_type": "execute_result"
    }
   ],
   "source": [
    "df[\"Storage\"].mode()"
   ]
  },
  {
   "cell_type": "code",
   "execution_count": 36,
   "id": "06158ba8",
   "metadata": {},
   "outputs": [],
   "source": [
    "df[\"Storage\"].replace(\"64GB GB\",\"64 GB\",inplace=True)"
   ]
  },
  {
   "cell_type": "code",
   "execution_count": 37,
   "id": "06eeb80e",
   "metadata": {},
   "outputs": [],
   "source": [
    "def Storage_convert(x):\n",
    "    # Ensure the value is a string\n",
    "    x = str(x).strip()\n",
    "    # Check if there is no space between the value and the unit\n",
    "    if ' ' not in x:\n",
    "        if 'MB' in x:\n",
    "            value = x.replace('MB', '').strip()\n",
    "            return f\"{float(value) / 1024:.2f} GB\"\n",
    "        elif 'TB' in x:\n",
    "            value = x.replace('TB', '').strip()\n",
    "            return f\"{float(value) * 1024:.2f} GB\"\n",
    "            \n",
    "        elif 'GB' in x:\n",
    "            value = x.replace('GB', '').strip()\n",
    "            return f\"{float(value)} GB\"\n",
    "    else:\n",
    "        p = x.split(' ')\n",
    "        try:\n",
    "            if p[1] == 'MB':\n",
    "                return f\"{float(p[0]) / 1024:.2f} GB\"\n",
    "            elif p[1] == 'TB':\n",
    "                return f\"{float(p[0]) * 1024:.2f} GB\"\n",
    "            else:\n",
    "                return x\n",
    "        except:\n",
    "            return x\n",
    "\n",
    "df[\"Storage_GB\"] = df[\"Storage\"].apply(Storage_convert)"
   ]
  },
  {
   "cell_type": "code",
   "execution_count": 38,
   "id": "424daab6",
   "metadata": {},
   "outputs": [],
   "source": [
    "df[\"Storage_GB\"]=df[\"Storage_GB\"].str.split(\" \").str[0]"
   ]
  },
  {
   "cell_type": "code",
   "execution_count": 39,
   "id": "14552b4c",
   "metadata": {},
   "outputs": [],
   "source": [
    "df[\"Memory_GB\"]=df[\"Memory_GB\"].str.split(\" \").str[0]"
   ]
  },
  {
   "cell_type": "code",
   "execution_count": 40,
   "id": "c5fb7a09",
   "metadata": {},
   "outputs": [
    {
     "data": {
      "text/plain": [
       "0"
      ]
     },
     "execution_count": 40,
     "metadata": {},
     "output_type": "execute_result"
    }
   ],
   "source": [
    "df[\"Storage_GB\"].isnull().sum()"
   ]
  },
  {
   "cell_type": "code",
   "execution_count": 41,
   "id": "4d86a5af",
   "metadata": {},
   "outputs": [
    {
     "data": {
      "text/plain": [
       "array(['64', '128', '32', '256', '16', '8', '4', '512', '0.02', '0.12',\n",
       "       '0.00', '0.05', '0.01', '0.25', '0.14', '0.06', '1024.00', '32.0',\n",
       "       '0.15', '0.50', '0.10', '65'], dtype=object)"
      ]
     },
     "execution_count": 41,
     "metadata": {},
     "output_type": "execute_result"
    }
   ],
   "source": [
    "df[\"Storage_GB\"].unique()"
   ]
  },
  {
   "cell_type": "code",
   "execution_count": 42,
   "id": "53969ed0",
   "metadata": {},
   "outputs": [
    {
     "data": {
      "text/plain": [
       "0"
      ]
     },
     "execution_count": 42,
     "metadata": {},
     "output_type": "execute_result"
    }
   ],
   "source": [
    "df[\"Storage_GB\"].isnull().sum()"
   ]
  },
  {
   "cell_type": "code",
   "execution_count": 43,
   "id": "8d2a262d",
   "metadata": {},
   "outputs": [],
   "source": [
    "df[\"Storage_GB\"]=df[\"Storage_GB\"].astype(\"float\")"
   ]
  },
  {
   "cell_type": "code",
   "execution_count": 44,
   "id": "8a2d7cff",
   "metadata": {},
   "outputs": [
    {
     "data": {
      "text/plain": [
       "2647"
      ]
     },
     "execution_count": 44,
     "metadata": {},
     "output_type": "execute_result"
    }
   ],
   "source": [
    "df['Memory'].count()"
   ]
  },
  {
   "cell_type": "code",
   "execution_count": 45,
   "id": "c20ad231",
   "metadata": {},
   "outputs": [
    {
     "data": {
      "text/html": [
       "<div>\n",
       "<style scoped>\n",
       "    .dataframe tbody tr th:only-of-type {\n",
       "        vertical-align: middle;\n",
       "    }\n",
       "\n",
       "    .dataframe tbody tr th {\n",
       "        vertical-align: top;\n",
       "    }\n",
       "\n",
       "    .dataframe thead th {\n",
       "        text-align: right;\n",
       "    }\n",
       "</style>\n",
       "<table border=\"1\" class=\"dataframe\">\n",
       "  <thead>\n",
       "    <tr style=\"text-align: right;\">\n",
       "      <th></th>\n",
       "      <th>Brand</th>\n",
       "      <th>Model</th>\n",
       "      <th>Color</th>\n",
       "      <th>Memory</th>\n",
       "      <th>Storage</th>\n",
       "      <th>Rating</th>\n",
       "      <th>Selling Price</th>\n",
       "      <th>Original Price</th>\n",
       "      <th>Memory_GB</th>\n",
       "      <th>Storage_GB</th>\n",
       "    </tr>\n",
       "  </thead>\n",
       "  <tbody>\n",
       "  </tbody>\n",
       "</table>\n",
       "</div>"
      ],
      "text/plain": [
       "Empty DataFrame\n",
       "Columns: [Brand, Model, Color, Memory, Storage, Rating, Selling Price, Original Price, Memory_GB, Storage_GB]\n",
       "Index: []"
      ]
     },
     "execution_count": 45,
     "metadata": {},
     "output_type": "execute_result"
    }
   ],
   "source": [
    "df[df[\"Memory_GB\"].isnull()]"
   ]
  },
  {
   "cell_type": "code",
   "execution_count": 46,
   "id": "7f3c9cde",
   "metadata": {},
   "outputs": [
    {
     "data": {
      "text/plain": [
       "array(['4', '6', '3', '8', '2', '12', '1', '0.50', '1.5', '0.75', '16',\n",
       "       '18', '0.01', '0.06', '0.00', '0.03', '0.02', '0.12', '0.25',\n",
       "       '4.0', '6.0', '0.15', '0.04', '32', '0.5', '0.10', '0.70'],\n",
       "      dtype=object)"
      ]
     },
     "execution_count": 46,
     "metadata": {},
     "output_type": "execute_result"
    }
   ],
   "source": [
    "df[\"Memory_GB\"].unique()"
   ]
  },
  {
   "cell_type": "code",
   "execution_count": 47,
   "id": "09dc9c80",
   "metadata": {},
   "outputs": [],
   "source": [
    "df[\"Memory_GB\"]=df[\"Memory_GB\"].astype(\"float\")"
   ]
  },
  {
   "cell_type": "code",
   "execution_count": 48,
   "id": "478ad46a",
   "metadata": {},
   "outputs": [
    {
     "name": "stdout",
     "output_type": "stream",
     "text": [
      "<class 'pandas.core.frame.DataFrame'>\n",
      "RangeIndex: 2647 entries, 0 to 2646\n",
      "Data columns (total 10 columns):\n",
      " #   Column          Non-Null Count  Dtype  \n",
      "---  ------          --------------  -----  \n",
      " 0   Brand           2647 non-null   object \n",
      " 1   Model           2647 non-null   object \n",
      " 2   Color           2647 non-null   object \n",
      " 3   Memory          2647 non-null   object \n",
      " 4   Storage         2647 non-null   object \n",
      " 5   Rating          2647 non-null   float64\n",
      " 6   Selling Price   2644 non-null   float64\n",
      " 7   Original Price  2647 non-null   int64  \n",
      " 8   Memory_GB       2647 non-null   float64\n",
      " 9   Storage_GB      2647 non-null   float64\n",
      "dtypes: float64(4), int64(1), object(5)\n",
      "memory usage: 206.9+ KB\n"
     ]
    }
   ],
   "source": [
    "df.info()"
   ]
  },
  {
   "cell_type": "code",
   "execution_count": 49,
   "id": "7204ed9e",
   "metadata": {},
   "outputs": [
    {
     "data": {
      "text/html": [
       "<div>\n",
       "<style scoped>\n",
       "    .dataframe tbody tr th:only-of-type {\n",
       "        vertical-align: middle;\n",
       "    }\n",
       "\n",
       "    .dataframe tbody tr th {\n",
       "        vertical-align: top;\n",
       "    }\n",
       "\n",
       "    .dataframe thead th {\n",
       "        text-align: right;\n",
       "    }\n",
       "</style>\n",
       "<table border=\"1\" class=\"dataframe\">\n",
       "  <thead>\n",
       "    <tr style=\"text-align: right;\">\n",
       "      <th></th>\n",
       "      <th>Brand</th>\n",
       "      <th>Model</th>\n",
       "      <th>Color</th>\n",
       "      <th>Memory</th>\n",
       "      <th>Storage</th>\n",
       "      <th>Rating</th>\n",
       "      <th>Selling Price</th>\n",
       "      <th>Original Price</th>\n",
       "      <th>Memory_GB</th>\n",
       "      <th>Storage_GB</th>\n",
       "    </tr>\n",
       "  </thead>\n",
       "  <tbody>\n",
       "    <tr>\n",
       "      <th>0</th>\n",
       "      <td>OPPO</td>\n",
       "      <td>A53</td>\n",
       "      <td>Moonlight Black</td>\n",
       "      <td>4 GB</td>\n",
       "      <td>64 GB</td>\n",
       "      <td>4.5</td>\n",
       "      <td>11990.0</td>\n",
       "      <td>15990</td>\n",
       "      <td>4.0</td>\n",
       "      <td>64.0</td>\n",
       "    </tr>\n",
       "    <tr>\n",
       "      <th>1</th>\n",
       "      <td>OPPO</td>\n",
       "      <td>A53</td>\n",
       "      <td>Mint Cream</td>\n",
       "      <td>4 GB</td>\n",
       "      <td>64 GB</td>\n",
       "      <td>4.5</td>\n",
       "      <td>11990.0</td>\n",
       "      <td>100000</td>\n",
       "      <td>4.0</td>\n",
       "      <td>64.0</td>\n",
       "    </tr>\n",
       "    <tr>\n",
       "      <th>2</th>\n",
       "      <td>OPPO</td>\n",
       "      <td>A53</td>\n",
       "      <td>Moonlight Black</td>\n",
       "      <td>6 GB</td>\n",
       "      <td>128 GB</td>\n",
       "      <td>4.3</td>\n",
       "      <td>13990.0</td>\n",
       "      <td>17990</td>\n",
       "      <td>6.0</td>\n",
       "      <td>128.0</td>\n",
       "    </tr>\n",
       "    <tr>\n",
       "      <th>3</th>\n",
       "      <td>OPPO</td>\n",
       "      <td>A53</td>\n",
       "      <td>Mint Cream</td>\n",
       "      <td>6 GB</td>\n",
       "      <td>128 GB</td>\n",
       "      <td>4.3</td>\n",
       "      <td>13990.0</td>\n",
       "      <td>17990</td>\n",
       "      <td>6.0</td>\n",
       "      <td>128.0</td>\n",
       "    </tr>\n",
       "    <tr>\n",
       "      <th>4</th>\n",
       "      <td>OPPO</td>\n",
       "      <td>A53</td>\n",
       "      <td>Electric Black</td>\n",
       "      <td>4 GB</td>\n",
       "      <td>64 GB</td>\n",
       "      <td>4.5</td>\n",
       "      <td>11990.0</td>\n",
       "      <td>15990</td>\n",
       "      <td>4.0</td>\n",
       "      <td>64.0</td>\n",
       "    </tr>\n",
       "  </tbody>\n",
       "</table>\n",
       "</div>"
      ],
      "text/plain": [
       "  Brand Model            Color Memory Storage  Rating  Selling Price  \\\n",
       "0  OPPO   A53  Moonlight Black   4 GB   64 GB     4.5        11990.0   \n",
       "1  OPPO   A53       Mint Cream   4 GB   64 GB     4.5        11990.0   \n",
       "2  OPPO   A53  Moonlight Black   6 GB  128 GB     4.3        13990.0   \n",
       "3  OPPO   A53       Mint Cream   6 GB  128 GB     4.3        13990.0   \n",
       "4  OPPO   A53   Electric Black   4 GB   64 GB     4.5        11990.0   \n",
       "\n",
       "   Original Price  Memory_GB  Storage_GB  \n",
       "0           15990        4.0        64.0  \n",
       "1          100000        4.0        64.0  \n",
       "2           17990        6.0       128.0  \n",
       "3           17990        6.0       128.0  \n",
       "4           15990        4.0        64.0  "
      ]
     },
     "execution_count": 49,
     "metadata": {},
     "output_type": "execute_result"
    }
   ],
   "source": [
    "df.head()"
   ]
  },
  {
   "cell_type": "code",
   "execution_count": 50,
   "id": "aa1e8bdb",
   "metadata": {},
   "outputs": [
    {
     "data": {
      "text/html": [
       "<div>\n",
       "<style scoped>\n",
       "    .dataframe tbody tr th:only-of-type {\n",
       "        vertical-align: middle;\n",
       "    }\n",
       "\n",
       "    .dataframe tbody tr th {\n",
       "        vertical-align: top;\n",
       "    }\n",
       "\n",
       "    .dataframe thead th {\n",
       "        text-align: right;\n",
       "    }\n",
       "</style>\n",
       "<table border=\"1\" class=\"dataframe\">\n",
       "  <thead>\n",
       "    <tr style=\"text-align: right;\">\n",
       "      <th></th>\n",
       "      <th>Brand</th>\n",
       "      <th>Model</th>\n",
       "      <th>Color</th>\n",
       "      <th>Memory</th>\n",
       "      <th>Storage</th>\n",
       "      <th>Rating</th>\n",
       "      <th>Selling Price</th>\n",
       "      <th>Original Price</th>\n",
       "      <th>Memory_GB</th>\n",
       "      <th>Storage_GB</th>\n",
       "    </tr>\n",
       "  </thead>\n",
       "  <tbody>\n",
       "    <tr>\n",
       "      <th>128</th>\n",
       "      <td>OPPO</td>\n",
       "      <td>A16</td>\n",
       "      <td>Crystal Black</td>\n",
       "      <td>4 GB</td>\n",
       "      <td>64 GB</td>\n",
       "      <td>0.0</td>\n",
       "      <td>NaN</td>\n",
       "      <td>13490</td>\n",
       "      <td>4.0</td>\n",
       "      <td>64.0</td>\n",
       "    </tr>\n",
       "    <tr>\n",
       "      <th>420</th>\n",
       "      <td>ASUS</td>\n",
       "      <td>Zenfone Go 5.0</td>\n",
       "      <td>Black</td>\n",
       "      <td>2 GB</td>\n",
       "      <td>8 GB</td>\n",
       "      <td>4.0</td>\n",
       "      <td>NaN</td>\n",
       "      <td>4990</td>\n",
       "      <td>2.0</td>\n",
       "      <td>8.0</td>\n",
       "    </tr>\n",
       "    <tr>\n",
       "      <th>2426</th>\n",
       "      <td>vivo</td>\n",
       "      <td>Y20G</td>\n",
       "      <td>Obsidian Black</td>\n",
       "      <td>6 GB</td>\n",
       "      <td>128 GB</td>\n",
       "      <td>4.3</td>\n",
       "      <td>NaN</td>\n",
       "      <td>74990</td>\n",
       "      <td>6.0</td>\n",
       "      <td>128.0</td>\n",
       "    </tr>\n",
       "  </tbody>\n",
       "</table>\n",
       "</div>"
      ],
      "text/plain": [
       "     Brand            Model           Color Memory Storage  Rating  \\\n",
       "128   OPPO              A16   Crystal Black   4 GB   64 GB     0.0   \n",
       "420   ASUS  Zenfone Go 5.0            Black   2 GB    8 GB     4.0   \n",
       "2426  vivo            Y20G   Obsidian Black   6 GB  128 GB     4.3   \n",
       "\n",
       "      Selling Price  Original Price  Memory_GB  Storage_GB  \n",
       "128             NaN           13490        4.0        64.0  \n",
       "420             NaN            4990        2.0         8.0  \n",
       "2426            NaN           74990        6.0       128.0  "
      ]
     },
     "execution_count": 50,
     "metadata": {},
     "output_type": "execute_result"
    }
   ],
   "source": [
    "df[df[\"Selling Price\"].isnull()]"
   ]
  },
  {
   "cell_type": "code",
   "execution_count": 51,
   "id": "5623b5c8",
   "metadata": {},
   "outputs": [],
   "source": [
    "\n",
    "# Forward fill missing values along the columns (axis=1)\n",
    "df['Selling Price'].fillna(df['Original Price'],inplace=True)"
   ]
  },
  {
   "cell_type": "code",
   "execution_count": 52,
   "id": "f524c473",
   "metadata": {},
   "outputs": [
    {
     "name": "stdout",
     "output_type": "stream",
     "text": [
      "<class 'pandas.core.frame.DataFrame'>\n",
      "RangeIndex: 2647 entries, 0 to 2646\n",
      "Data columns (total 10 columns):\n",
      " #   Column          Non-Null Count  Dtype  \n",
      "---  ------          --------------  -----  \n",
      " 0   Brand           2647 non-null   object \n",
      " 1   Model           2647 non-null   object \n",
      " 2   Color           2647 non-null   object \n",
      " 3   Memory          2647 non-null   object \n",
      " 4   Storage         2647 non-null   object \n",
      " 5   Rating          2647 non-null   float64\n",
      " 6   Selling Price   2647 non-null   float64\n",
      " 7   Original Price  2647 non-null   int64  \n",
      " 8   Memory_GB       2647 non-null   float64\n",
      " 9   Storage_GB      2647 non-null   float64\n",
      "dtypes: float64(4), int64(1), object(5)\n",
      "memory usage: 206.9+ KB\n"
     ]
    }
   ],
   "source": [
    "df.info()"
   ]
  },
  {
   "cell_type": "code",
   "execution_count": 53,
   "id": "13c40a1a",
   "metadata": {},
   "outputs": [],
   "source": [
    "# df.to_excel(\"datacleaned.xlsx\",index=False)"
   ]
  },
  {
   "cell_type": "code",
   "execution_count": 54,
   "id": "8f5ad51f",
   "metadata": {},
   "outputs": [
    {
     "data": {
      "text/html": [
       "<div>\n",
       "<style scoped>\n",
       "    .dataframe tbody tr th:only-of-type {\n",
       "        vertical-align: middle;\n",
       "    }\n",
       "\n",
       "    .dataframe tbody tr th {\n",
       "        vertical-align: top;\n",
       "    }\n",
       "\n",
       "    .dataframe thead th {\n",
       "        text-align: right;\n",
       "    }\n",
       "</style>\n",
       "<table border=\"1\" class=\"dataframe\">\n",
       "  <thead>\n",
       "    <tr style=\"text-align: right;\">\n",
       "      <th></th>\n",
       "      <th>Brand</th>\n",
       "      <th>Model</th>\n",
       "      <th>Color</th>\n",
       "      <th>Memory</th>\n",
       "      <th>Storage</th>\n",
       "      <th>Rating</th>\n",
       "      <th>Selling Price</th>\n",
       "      <th>Original Price</th>\n",
       "      <th>Memory_GB</th>\n",
       "      <th>Storage_GB</th>\n",
       "    </tr>\n",
       "  </thead>\n",
       "  <tbody>\n",
       "    <tr>\n",
       "      <th>0</th>\n",
       "      <td>OPPO</td>\n",
       "      <td>A53</td>\n",
       "      <td>Moonlight Black</td>\n",
       "      <td>4 GB</td>\n",
       "      <td>64 GB</td>\n",
       "      <td>4.5</td>\n",
       "      <td>11990.0</td>\n",
       "      <td>15990</td>\n",
       "      <td>4.0</td>\n",
       "      <td>64.0</td>\n",
       "    </tr>\n",
       "    <tr>\n",
       "      <th>1</th>\n",
       "      <td>OPPO</td>\n",
       "      <td>A53</td>\n",
       "      <td>Mint Cream</td>\n",
       "      <td>4 GB</td>\n",
       "      <td>64 GB</td>\n",
       "      <td>4.5</td>\n",
       "      <td>11990.0</td>\n",
       "      <td>100000</td>\n",
       "      <td>4.0</td>\n",
       "      <td>64.0</td>\n",
       "    </tr>\n",
       "    <tr>\n",
       "      <th>2</th>\n",
       "      <td>OPPO</td>\n",
       "      <td>A53</td>\n",
       "      <td>Moonlight Black</td>\n",
       "      <td>6 GB</td>\n",
       "      <td>128 GB</td>\n",
       "      <td>4.3</td>\n",
       "      <td>13990.0</td>\n",
       "      <td>17990</td>\n",
       "      <td>6.0</td>\n",
       "      <td>128.0</td>\n",
       "    </tr>\n",
       "    <tr>\n",
       "      <th>3</th>\n",
       "      <td>OPPO</td>\n",
       "      <td>A53</td>\n",
       "      <td>Mint Cream</td>\n",
       "      <td>6 GB</td>\n",
       "      <td>128 GB</td>\n",
       "      <td>4.3</td>\n",
       "      <td>13990.0</td>\n",
       "      <td>17990</td>\n",
       "      <td>6.0</td>\n",
       "      <td>128.0</td>\n",
       "    </tr>\n",
       "    <tr>\n",
       "      <th>4</th>\n",
       "      <td>OPPO</td>\n",
       "      <td>A53</td>\n",
       "      <td>Electric Black</td>\n",
       "      <td>4 GB</td>\n",
       "      <td>64 GB</td>\n",
       "      <td>4.5</td>\n",
       "      <td>11990.0</td>\n",
       "      <td>15990</td>\n",
       "      <td>4.0</td>\n",
       "      <td>64.0</td>\n",
       "    </tr>\n",
       "    <tr>\n",
       "      <th>...</th>\n",
       "      <td>...</td>\n",
       "      <td>...</td>\n",
       "      <td>...</td>\n",
       "      <td>...</td>\n",
       "      <td>...</td>\n",
       "      <td>...</td>\n",
       "      <td>...</td>\n",
       "      <td>...</td>\n",
       "      <td>...</td>\n",
       "      <td>...</td>\n",
       "    </tr>\n",
       "    <tr>\n",
       "      <th>2642</th>\n",
       "      <td>Xiaomi</td>\n",
       "      <td>Redmi Y3</td>\n",
       "      <td>Bold Red</td>\n",
       "      <td>4 GB</td>\n",
       "      <td>64 GB</td>\n",
       "      <td>4.3</td>\n",
       "      <td>12999.0</td>\n",
       "      <td>9450</td>\n",
       "      <td>4.0</td>\n",
       "      <td>64.0</td>\n",
       "    </tr>\n",
       "    <tr>\n",
       "      <th>2643</th>\n",
       "      <td>Xiaomi</td>\n",
       "      <td>Redmi Y3</td>\n",
       "      <td>Elegant Blue</td>\n",
       "      <td>3 GB</td>\n",
       "      <td>32 GB</td>\n",
       "      <td>4.3</td>\n",
       "      <td>9450.0</td>\n",
       "      <td>12999</td>\n",
       "      <td>3.0</td>\n",
       "      <td>32.0</td>\n",
       "    </tr>\n",
       "    <tr>\n",
       "      <th>2644</th>\n",
       "      <td>Xiaomi</td>\n",
       "      <td>Redmi Y3</td>\n",
       "      <td>Elegant Blue</td>\n",
       "      <td>4 GB</td>\n",
       "      <td>64 GB</td>\n",
       "      <td>4.2</td>\n",
       "      <td>12999.0</td>\n",
       "      <td>9950</td>\n",
       "      <td>4.0</td>\n",
       "      <td>64.0</td>\n",
       "    </tr>\n",
       "    <tr>\n",
       "      <th>2645</th>\n",
       "      <td>Xiaomi</td>\n",
       "      <td>Redmi Y3</td>\n",
       "      <td>Prime Black</td>\n",
       "      <td>3 GB</td>\n",
       "      <td>32 GB</td>\n",
       "      <td>4.2</td>\n",
       "      <td>9950.0</td>\n",
       "      <td>13999</td>\n",
       "      <td>3.0</td>\n",
       "      <td>32.0</td>\n",
       "    </tr>\n",
       "    <tr>\n",
       "      <th>2646</th>\n",
       "      <td>Xiaomi</td>\n",
       "      <td>Redmi Y3</td>\n",
       "      <td>Prime Black</td>\n",
       "      <td>4 GB</td>\n",
       "      <td>64 GB</td>\n",
       "      <td>4.3</td>\n",
       "      <td>12499.0</td>\n",
       "      <td>53990</td>\n",
       "      <td>4.0</td>\n",
       "      <td>64.0</td>\n",
       "    </tr>\n",
       "  </tbody>\n",
       "</table>\n",
       "<p>2647 rows × 10 columns</p>\n",
       "</div>"
      ],
      "text/plain": [
       "       Brand      Model            Color Memory Storage  Rating  \\\n",
       "0       OPPO        A53  Moonlight Black   4 GB   64 GB     4.5   \n",
       "1       OPPO        A53       Mint Cream   4 GB   64 GB     4.5   \n",
       "2       OPPO        A53  Moonlight Black   6 GB  128 GB     4.3   \n",
       "3       OPPO        A53       Mint Cream   6 GB  128 GB     4.3   \n",
       "4       OPPO        A53   Electric Black   4 GB   64 GB     4.5   \n",
       "...      ...        ...              ...    ...     ...     ...   \n",
       "2642  Xiaomi  Redmi Y3          Bold Red   4 GB   64 GB     4.3   \n",
       "2643  Xiaomi  Redmi Y3      Elegant Blue   3 GB   32 GB     4.3   \n",
       "2644  Xiaomi  Redmi Y3      Elegant Blue   4 GB   64 GB     4.2   \n",
       "2645  Xiaomi  Redmi Y3       Prime Black   3 GB   32 GB     4.2   \n",
       "2646  Xiaomi  Redmi Y3       Prime Black   4 GB   64 GB     4.3   \n",
       "\n",
       "      Selling Price  Original Price  Memory_GB  Storage_GB  \n",
       "0           11990.0           15990        4.0        64.0  \n",
       "1           11990.0          100000        4.0        64.0  \n",
       "2           13990.0           17990        6.0       128.0  \n",
       "3           13990.0           17990        6.0       128.0  \n",
       "4           11990.0           15990        4.0        64.0  \n",
       "...             ...             ...        ...         ...  \n",
       "2642        12999.0            9450        4.0        64.0  \n",
       "2643         9450.0           12999        3.0        32.0  \n",
       "2644        12999.0            9950        4.0        64.0  \n",
       "2645         9950.0           13999        3.0        32.0  \n",
       "2646        12499.0           53990        4.0        64.0  \n",
       "\n",
       "[2647 rows x 10 columns]"
      ]
     },
     "execution_count": 54,
     "metadata": {},
     "output_type": "execute_result"
    }
   ],
   "source": [
    "df"
   ]
  },
  {
   "cell_type": "markdown",
   "id": "b26d47a9",
   "metadata": {},
   "source": [
    "# Remove outliers in the dataset"
   ]
  },
  {
   "cell_type": "code",
   "execution_count": 55,
   "id": "2cd6b779",
   "metadata": {},
   "outputs": [
    {
     "data": {
      "text/plain": [
       "(2647, 10)"
      ]
     },
     "execution_count": 55,
     "metadata": {},
     "output_type": "execute_result"
    }
   ],
   "source": [
    "df.shape"
   ]
  },
  {
   "cell_type": "code",
   "execution_count": 56,
   "id": "62906a2f",
   "metadata": {},
   "outputs": [
    {
     "data": {
      "image/png": "[encoded data removed]",
      "text/plain": [
       "<Figure size 640x480 with 1 Axes>"
      ]
     },
     "metadata": {},
     "output_type": "display_data"
    }
   ],
   "source": [
    "sns.boxplot(x=\"Selling Price\",data=df)\n",
    "plt.show()"
   ]
  },
  {
   "cell_type": "markdown",
   "id": "7fe38d1d",
   "metadata": {},
   "source": [
    "# IQR Method"
   ]
  },
  {
   "cell_type": "code",
   "execution_count": 57,
   "id": "56db0585",
   "metadata": {},
   "outputs": [
    {
     "data": {
      "text/plain": [
       "(9490.0, 29998.5)"
      ]
     },
     "execution_count": 57,
     "metadata": {},
     "output_type": "execute_result"
    }
   ],
   "source": [
    "q1=df[\"Selling Price\"].quantile(0.25)\n",
    "q3=df[\"Selling Price\"].quantile(0.75)\n",
    "q1,q3"
   ]
  },
  {
   "cell_type": "code",
   "execution_count": 58,
   "id": "4433e995",
   "metadata": {},
   "outputs": [
    {
     "data": {
      "text/plain": [
       "20508.5"
      ]
     },
     "execution_count": 58,
     "metadata": {},
     "output_type": "execute_result"
    }
   ],
   "source": [
    "IQR=q3-q1\n",
    "IQR"
   ]
  },
  {
   "cell_type": "code",
   "execution_count": 59,
   "id": "f487dcbf",
   "metadata": {},
   "outputs": [
    {
     "data": {
      "text/plain": [
       "(-21272.75, 60761.25)"
      ]
     },
     "execution_count": 59,
     "metadata": {},
     "output_type": "execute_result"
    }
   ],
   "source": [
    "min_range=q1-(1.5*IQR)\n",
    "max_range=q3+(1.5*IQR)\n",
    "min_range,max_range"
   ]
  },
  {
   "cell_type": "code",
   "execution_count": 60,
   "id": "1831b2af",
   "metadata": {},
   "outputs": [
    {
     "data": {
      "text/html": [
       "<div>\n",
       "<style scoped>\n",
       "    .dataframe tbody tr th:only-of-type {\n",
       "        vertical-align: middle;\n",
       "    }\n",
       "\n",
       "    .dataframe tbody tr th {\n",
       "        vertical-align: top;\n",
       "    }\n",
       "\n",
       "    .dataframe thead th {\n",
       "        text-align: right;\n",
       "    }\n",
       "</style>\n",
       "<table border=\"1\" class=\"dataframe\">\n",
       "  <thead>\n",
       "    <tr style=\"text-align: right;\">\n",
       "      <th></th>\n",
       "      <th>Brand</th>\n",
       "      <th>Model</th>\n",
       "      <th>Color</th>\n",
       "      <th>Memory</th>\n",
       "      <th>Storage</th>\n",
       "      <th>Rating</th>\n",
       "      <th>Selling Price</th>\n",
       "      <th>Original Price</th>\n",
       "      <th>Memory_GB</th>\n",
       "      <th>Storage_GB</th>\n",
       "    </tr>\n",
       "  </thead>\n",
       "  <tbody>\n",
       "    <tr>\n",
       "      <th>0</th>\n",
       "      <td>OPPO</td>\n",
       "      <td>A53</td>\n",
       "      <td>Moonlight Black</td>\n",
       "      <td>4 GB</td>\n",
       "      <td>64 GB</td>\n",
       "      <td>4.5</td>\n",
       "      <td>11990.0</td>\n",
       "      <td>15990</td>\n",
       "      <td>4.0</td>\n",
       "      <td>64.0</td>\n",
       "    </tr>\n",
       "    <tr>\n",
       "      <th>1</th>\n",
       "      <td>OPPO</td>\n",
       "      <td>A53</td>\n",
       "      <td>Mint Cream</td>\n",
       "      <td>4 GB</td>\n",
       "      <td>64 GB</td>\n",
       "      <td>4.5</td>\n",
       "      <td>11990.0</td>\n",
       "      <td>100000</td>\n",
       "      <td>4.0</td>\n",
       "      <td>64.0</td>\n",
       "    </tr>\n",
       "    <tr>\n",
       "      <th>2</th>\n",
       "      <td>OPPO</td>\n",
       "      <td>A53</td>\n",
       "      <td>Moonlight Black</td>\n",
       "      <td>6 GB</td>\n",
       "      <td>128 GB</td>\n",
       "      <td>4.3</td>\n",
       "      <td>13990.0</td>\n",
       "      <td>17990</td>\n",
       "      <td>6.0</td>\n",
       "      <td>128.0</td>\n",
       "    </tr>\n",
       "    <tr>\n",
       "      <th>3</th>\n",
       "      <td>OPPO</td>\n",
       "      <td>A53</td>\n",
       "      <td>Mint Cream</td>\n",
       "      <td>6 GB</td>\n",
       "      <td>128 GB</td>\n",
       "      <td>4.3</td>\n",
       "      <td>13990.0</td>\n",
       "      <td>17990</td>\n",
       "      <td>6.0</td>\n",
       "      <td>128.0</td>\n",
       "    </tr>\n",
       "    <tr>\n",
       "      <th>4</th>\n",
       "      <td>OPPO</td>\n",
       "      <td>A53</td>\n",
       "      <td>Electric Black</td>\n",
       "      <td>4 GB</td>\n",
       "      <td>64 GB</td>\n",
       "      <td>4.5</td>\n",
       "      <td>11990.0</td>\n",
       "      <td>15990</td>\n",
       "      <td>4.0</td>\n",
       "      <td>64.0</td>\n",
       "    </tr>\n",
       "  </tbody>\n",
       "</table>\n",
       "</div>"
      ],
      "text/plain": [
       "  Brand Model            Color Memory Storage  Rating  Selling Price  \\\n",
       "0  OPPO   A53  Moonlight Black   4 GB   64 GB     4.5        11990.0   \n",
       "1  OPPO   A53       Mint Cream   4 GB   64 GB     4.5        11990.0   \n",
       "2  OPPO   A53  Moonlight Black   6 GB  128 GB     4.3        13990.0   \n",
       "3  OPPO   A53       Mint Cream   6 GB  128 GB     4.3        13990.0   \n",
       "4  OPPO   A53   Electric Black   4 GB   64 GB     4.5        11990.0   \n",
       "\n",
       "   Original Price  Memory_GB  Storage_GB  \n",
       "0           15990        4.0        64.0  \n",
       "1          100000        4.0        64.0  \n",
       "2           17990        6.0       128.0  \n",
       "3           17990        6.0       128.0  \n",
       "4           15990        4.0        64.0  "
      ]
     },
     "execution_count": 60,
     "metadata": {},
     "output_type": "execute_result"
    }
   ],
   "source": [
    "new_df=df[df[\"Selling Price\"]<=max_range]\n",
    "new_df.head()"
   ]
  },
  {
   "cell_type": "code",
   "execution_count": 61,
   "id": "9ae95902",
   "metadata": {},
   "outputs": [
    {
     "data": {
      "image/png": "[encoded data removed]",
      "text/plain": [
       "<Figure size 640x480 with 1 Axes>"
      ]
     },
     "metadata": {},
     "output_type": "display_data"
    }
   ],
   "source": [
    "sns.boxplot(x=\"Selling Price\",data=new_df)\n",
    "plt.show()"
   ]
  },
  {
   "cell_type": "markdown",
   "id": "0a561126",
   "metadata": {},
   "source": [
    "# Z-Score Method"
   ]
  },
  {
   "cell_type": "code",
   "execution_count": 62,
   "id": "8ff23f99",
   "metadata": {},
   "outputs": [
    {
     "name": "stderr",
     "output_type": "stream",
     "text": [
      "C:\\Users\\dania\\AppData\\Local\\Temp\\ipykernel_17148\\3799476720.py:1: UserWarning: \n",
      "\n",
      "`distplot` is a deprecated function and will be removed in seaborn v0.14.0.\n",
      "\n",
      "Please adapt your code to use either `displot` (a figure-level function with\n",
      "similar flexibility) or `histplot` (an axes-level function for histograms).\n",
      "\n",
      "For a guide to updating your code to use the new functions, please see\n",
      "https://gist.github.com/mwaskom/de44147ed2974457ad6372750bbe5751\n",
      "\n",
      "  sns.distplot(new_df[\"Original Price\"])\n"
     ]
    },
    {
     "data": {
      "image/png": "[encoded data removed]",
      "text/plain": [
       "<Figure size 640x480 with 1 Axes>"
      ]
     },
     "metadata": {},
     "output_type": "display_data"
    }
   ],
   "source": [
    "sns.distplot(new_df[\"Original Price\"])\n",
    "plt.show()"
   ]
  },
  {
   "cell_type": "code",
   "execution_count": 63,
   "id": "6ec050d1",
   "metadata": {},
   "outputs": [
    {
     "data": {
      "text/plain": [
       "0      -0.274442\n",
       "1       3.056418\n",
       "2      -0.195145\n",
       "3      -0.195145\n",
       "4      -0.274442\n",
       "          ...   \n",
       "2642   -0.533743\n",
       "2643   -0.393030\n",
       "2644   -0.513918\n",
       "2645   -0.353382\n",
       "2646    1.232196\n",
       "Name: Original Price, Length: 2342, dtype: float64"
      ]
     },
     "execution_count": 63,
     "metadata": {},
     "output_type": "execute_result"
    }
   ],
   "source": [
    "Zscore=(new_df[\"Original Price\"]-new_df[\"Original Price\"].mean())/new_df[\"Original Price\"].std()\n",
    "Zscore"
   ]
  },
  {
   "cell_type": "code",
   "execution_count": 64,
   "id": "7ed28ed8",
   "metadata": {},
   "outputs": [
    {
     "name": "stderr",
     "output_type": "stream",
     "text": [
      "C:\\Users\\dania\\AppData\\Local\\Temp\\ipykernel_17148\\180681309.py:1: SettingWithCopyWarning: \n",
      "A value is trying to be set on a copy of a slice from a DataFrame.\n",
      "Try using .loc[row_indexer,col_indexer] = value instead\n",
      "\n",
      "See the caveats in the documentation: https://pandas.pydata.org/pandas-docs/stable/user_guide/indexing.html#returning-a-view-versus-a-copy\n",
      "  new_df[\"z_score\"]=Zscore\n"
     ]
    }
   ],
   "source": [
    "new_df[\"z_score\"]=Zscore"
   ]
  },
  {
   "cell_type": "code",
   "execution_count": 65,
   "id": "5d3b3392",
   "metadata": {},
   "outputs": [],
   "source": [
    "new_df=new_df[new_df[\"z_score\"]<3]"
   ]
  },
  {
   "cell_type": "code",
   "execution_count": 66,
   "id": "da86b31e",
   "metadata": {},
   "outputs": [
    {
     "name": "stderr",
     "output_type": "stream",
     "text": [
      "C:\\Users\\dania\\AppData\\Local\\Temp\\ipykernel_17148\\3799476720.py:1: UserWarning: \n",
      "\n",
      "`distplot` is a deprecated function and will be removed in seaborn v0.14.0.\n",
      "\n",
      "Please adapt your code to use either `displot` (a figure-level function with\n",
      "similar flexibility) or `histplot` (an axes-level function for histograms).\n",
      "\n",
      "For a guide to updating your code to use the new functions, please see\n",
      "https://gist.github.com/mwaskom/de44147ed2974457ad6372750bbe5751\n",
      "\n",
      "  sns.distplot(new_df[\"Original Price\"])\n"
     ]
    },
    {
     "data": {
      "image/png": "[encoded data removed]",
      "text/plain": [
       "<Figure size 640x480 with 1 Axes>"
      ]
     },
     "metadata": {},
     "output_type": "display_data"
    }
   ],
   "source": [
    "sns.distplot(new_df[\"Original Price\"])\n",
    "plt.show()"
   ]
  },
  {
   "cell_type": "code",
   "execution_count": 67,
   "id": "f96d9196",
   "metadata": {},
   "outputs": [
    {
     "data": {
      "text/html": [
       "<div>\n",
       "<style scoped>\n",
       "    .dataframe tbody tr th:only-of-type {\n",
       "        vertical-align: middle;\n",
       "    }\n",
       "\n",
       "    .dataframe tbody tr th {\n",
       "        vertical-align: top;\n",
       "    }\n",
       "\n",
       "    .dataframe thead th {\n",
       "        text-align: right;\n",
       "    }\n",
       "</style>\n",
       "<table border=\"1\" class=\"dataframe\">\n",
       "  <thead>\n",
       "    <tr style=\"text-align: right;\">\n",
       "      <th></th>\n",
       "      <th>Brand</th>\n",
       "      <th>Model</th>\n",
       "      <th>Color</th>\n",
       "      <th>Memory</th>\n",
       "      <th>Storage</th>\n",
       "      <th>Rating</th>\n",
       "      <th>Selling Price</th>\n",
       "      <th>Original Price</th>\n",
       "      <th>Memory_GB</th>\n",
       "      <th>Storage_GB</th>\n",
       "      <th>z_score</th>\n",
       "    </tr>\n",
       "  </thead>\n",
       "  <tbody>\n",
       "    <tr>\n",
       "      <th>0</th>\n",
       "      <td>OPPO</td>\n",
       "      <td>A53</td>\n",
       "      <td>Moonlight Black</td>\n",
       "      <td>4 GB</td>\n",
       "      <td>64 GB</td>\n",
       "      <td>4.5</td>\n",
       "      <td>11990.0</td>\n",
       "      <td>15990</td>\n",
       "      <td>4.0</td>\n",
       "      <td>64.0</td>\n",
       "      <td>-0.274442</td>\n",
       "    </tr>\n",
       "    <tr>\n",
       "      <th>2</th>\n",
       "      <td>OPPO</td>\n",
       "      <td>A53</td>\n",
       "      <td>Moonlight Black</td>\n",
       "      <td>6 GB</td>\n",
       "      <td>128 GB</td>\n",
       "      <td>4.3</td>\n",
       "      <td>13990.0</td>\n",
       "      <td>17990</td>\n",
       "      <td>6.0</td>\n",
       "      <td>128.0</td>\n",
       "      <td>-0.195145</td>\n",
       "    </tr>\n",
       "    <tr>\n",
       "      <th>3</th>\n",
       "      <td>OPPO</td>\n",
       "      <td>A53</td>\n",
       "      <td>Mint Cream</td>\n",
       "      <td>6 GB</td>\n",
       "      <td>128 GB</td>\n",
       "      <td>4.3</td>\n",
       "      <td>13990.0</td>\n",
       "      <td>17990</td>\n",
       "      <td>6.0</td>\n",
       "      <td>128.0</td>\n",
       "      <td>-0.195145</td>\n",
       "    </tr>\n",
       "    <tr>\n",
       "      <th>4</th>\n",
       "      <td>OPPO</td>\n",
       "      <td>A53</td>\n",
       "      <td>Electric Black</td>\n",
       "      <td>4 GB</td>\n",
       "      <td>64 GB</td>\n",
       "      <td>4.5</td>\n",
       "      <td>11990.0</td>\n",
       "      <td>15990</td>\n",
       "      <td>4.0</td>\n",
       "      <td>64.0</td>\n",
       "      <td>-0.274442</td>\n",
       "    </tr>\n",
       "    <tr>\n",
       "      <th>5</th>\n",
       "      <td>OPPO</td>\n",
       "      <td>A53</td>\n",
       "      <td>Electric Black</td>\n",
       "      <td>6 GB</td>\n",
       "      <td>128 GB</td>\n",
       "      <td>4.3</td>\n",
       "      <td>13990.0</td>\n",
       "      <td>17990</td>\n",
       "      <td>6.0</td>\n",
       "      <td>128.0</td>\n",
       "      <td>-0.195145</td>\n",
       "    </tr>\n",
       "    <tr>\n",
       "      <th>...</th>\n",
       "      <td>...</td>\n",
       "      <td>...</td>\n",
       "      <td>...</td>\n",
       "      <td>...</td>\n",
       "      <td>...</td>\n",
       "      <td>...</td>\n",
       "      <td>...</td>\n",
       "      <td>...</td>\n",
       "      <td>...</td>\n",
       "      <td>...</td>\n",
       "      <td>...</td>\n",
       "    </tr>\n",
       "    <tr>\n",
       "      <th>2642</th>\n",
       "      <td>Xiaomi</td>\n",
       "      <td>Redmi Y3</td>\n",
       "      <td>Bold Red</td>\n",
       "      <td>4 GB</td>\n",
       "      <td>64 GB</td>\n",
       "      <td>4.3</td>\n",
       "      <td>12999.0</td>\n",
       "      <td>9450</td>\n",
       "      <td>4.0</td>\n",
       "      <td>64.0</td>\n",
       "      <td>-0.533743</td>\n",
       "    </tr>\n",
       "    <tr>\n",
       "      <th>2643</th>\n",
       "      <td>Xiaomi</td>\n",
       "      <td>Redmi Y3</td>\n",
       "      <td>Elegant Blue</td>\n",
       "      <td>3 GB</td>\n",
       "      <td>32 GB</td>\n",
       "      <td>4.3</td>\n",
       "      <td>9450.0</td>\n",
       "      <td>12999</td>\n",
       "      <td>3.0</td>\n",
       "      <td>32.0</td>\n",
       "      <td>-0.393030</td>\n",
       "    </tr>\n",
       "    <tr>\n",
       "      <th>2644</th>\n",
       "      <td>Xiaomi</td>\n",
       "      <td>Redmi Y3</td>\n",
       "      <td>Elegant Blue</td>\n",
       "      <td>4 GB</td>\n",
       "      <td>64 GB</td>\n",
       "      <td>4.2</td>\n",
       "      <td>12999.0</td>\n",
       "      <td>9950</td>\n",
       "      <td>4.0</td>\n",
       "      <td>64.0</td>\n",
       "      <td>-0.513918</td>\n",
       "    </tr>\n",
       "    <tr>\n",
       "      <th>2645</th>\n",
       "      <td>Xiaomi</td>\n",
       "      <td>Redmi Y3</td>\n",
       "      <td>Prime Black</td>\n",
       "      <td>3 GB</td>\n",
       "      <td>32 GB</td>\n",
       "      <td>4.2</td>\n",
       "      <td>9950.0</td>\n",
       "      <td>13999</td>\n",
       "      <td>3.0</td>\n",
       "      <td>32.0</td>\n",
       "      <td>-0.353382</td>\n",
       "    </tr>\n",
       "    <tr>\n",
       "      <th>2646</th>\n",
       "      <td>Xiaomi</td>\n",
       "      <td>Redmi Y3</td>\n",
       "      <td>Prime Black</td>\n",
       "      <td>4 GB</td>\n",
       "      <td>64 GB</td>\n",
       "      <td>4.3</td>\n",
       "      <td>12499.0</td>\n",
       "      <td>53990</td>\n",
       "      <td>4.0</td>\n",
       "      <td>64.0</td>\n",
       "      <td>1.232196</td>\n",
       "    </tr>\n",
       "  </tbody>\n",
       "</table>\n",
       "<p>2274 rows × 11 columns</p>\n",
       "</div>"
      ],
      "text/plain": [
       "       Brand      Model            Color Memory Storage  Rating  \\\n",
       "0       OPPO        A53  Moonlight Black   4 GB   64 GB     4.5   \n",
       "2       OPPO        A53  Moonlight Black   6 GB  128 GB     4.3   \n",
       "3       OPPO        A53       Mint Cream   6 GB  128 GB     4.3   \n",
       "4       OPPO        A53   Electric Black   4 GB   64 GB     4.5   \n",
       "5       OPPO        A53   Electric Black   6 GB  128 GB     4.3   \n",
       "...      ...        ...              ...    ...     ...     ...   \n",
       "2642  Xiaomi  Redmi Y3          Bold Red   4 GB   64 GB     4.3   \n",
       "2643  Xiaomi  Redmi Y3      Elegant Blue   3 GB   32 GB     4.3   \n",
       "2644  Xiaomi  Redmi Y3      Elegant Blue   4 GB   64 GB     4.2   \n",
       "2645  Xiaomi  Redmi Y3       Prime Black   3 GB   32 GB     4.2   \n",
       "2646  Xiaomi  Redmi Y3       Prime Black   4 GB   64 GB     4.3   \n",
       "\n",
       "      Selling Price  Original Price  Memory_GB  Storage_GB   z_score  \n",
       "0           11990.0           15990        4.0        64.0 -0.274442  \n",
       "2           13990.0           17990        6.0       128.0 -0.195145  \n",
       "3           13990.0           17990        6.0       128.0 -0.195145  \n",
       "4           11990.0           15990        4.0        64.0 -0.274442  \n",
       "5           13990.0           17990        6.0       128.0 -0.195145  \n",
       "...             ...             ...        ...         ...       ...  \n",
       "2642        12999.0            9450        4.0        64.0 -0.533743  \n",
       "2643         9450.0           12999        3.0        32.0 -0.393030  \n",
       "2644        12999.0            9950        4.0        64.0 -0.513918  \n",
       "2645         9950.0           13999        3.0        32.0 -0.353382  \n",
       "2646        12499.0           53990        4.0        64.0  1.232196  \n",
       "\n",
       "[2274 rows x 11 columns]"
      ]
     },
     "execution_count": 67,
     "metadata": {},
     "output_type": "execute_result"
    }
   ],
   "source": [
    "new_df"
   ]
  },
  {
   "cell_type": "code",
   "execution_count": 68,
   "id": "5d3d7f4d",
   "metadata": {},
   "outputs": [],
   "source": [
    "# df.to_excel(\"Aftercleaned(without_Outlier).xlsx\",index=False)"
   ]
  }
 ],
 "metadata": {
  "kernelspec": {
   "display_name": "Python 3 (ipykernel)",
   "language": "python",
   "name": "python3"
  },
  "language_info": {
   "codemirror_mode": {
    "name": "ipython",
    "version": 3
   },
   "file_extension": ".py",
   "mimetype": "text/x-python",
   "name": "python",
   "nbconvert_exporter": "python",
   "pygments_lexer": "ipython3",
   "version": "3.9.16"
  }
 },
 "nbformat": 4,
 "nbformat_minor": 5
}
